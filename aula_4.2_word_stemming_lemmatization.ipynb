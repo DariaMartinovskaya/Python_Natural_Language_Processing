{
 "cells": [
  {
   "cell_type": "code",
   "execution_count": 14,
   "id": "8a4779aa-b6b8-46b9-889d-36f90ffe7c43",
   "metadata": {},
   "outputs": [],
   "source": [
    "#WORD STEMMING\n",
    "import nltk"
   ]
  },
  {
   "cell_type": "code",
   "execution_count": 15,
   "id": "e676c6c7-14ef-4b83-8916-0db35669e25e",
   "metadata": {},
   "outputs": [
    {
     "name": "stderr",
     "output_type": "stream",
     "text": [
      "[nltk_data] Downloading package averaged_perceptron_tagger to\n",
      "[nltk_data]     /Users/dariamartinovskaya/nltk_data...\n",
      "[nltk_data]   Package averaged_perceptron_tagger is already up-to-\n",
      "[nltk_data]       date!\n"
     ]
    },
    {
     "data": {
      "text/plain": [
       "True"
      ]
     },
     "execution_count": 15,
     "metadata": {},
     "output_type": "execute_result"
    }
   ],
   "source": [
    "nltk.download('averaged_perceptron_tagger')"
   ]
  },
  {
   "cell_type": "code",
   "execution_count": 16,
   "id": "88c788d5-3e28-4885-ae4d-5aeec35b1545",
   "metadata": {},
   "outputs": [],
   "source": [
    "filename = \"/Users/dariamartinovskaya/Downloads/PLN/Chapter01/sherlock_holmes_1.txt\"\n",
    "with open(filename, \"r\", encoding=\"utf-8\") as file:\n",
    "    text = file.read()"
   ]
  },
  {
   "cell_type": "code",
   "execution_count": 17,
   "id": "e1af2696-7b29-41c0-9309-4f4a18ab1d24",
   "metadata": {},
   "outputs": [],
   "source": [
    "text = text.replace(\"\\n\", \" \")"
   ]
  },
  {
   "cell_type": "code",
   "execution_count": 18,
   "id": "377b33cc-367c-40d5-8972-32c16eec4580",
   "metadata": {},
   "outputs": [],
   "source": [
    "#Tokenize the text into words\n",
    "words = nltk.tokenize.word_tokenize(text)"
   ]
  },
  {
   "cell_type": "code",
   "execution_count": 19,
   "id": "b5147045-df2f-45f7-9aab-2c747e0d97cc",
   "metadata": {},
   "outputs": [],
   "source": [
    "#Process the list of words with the NLTK parts of speech tagger\n",
    "words_with_pos = nltk.pos_tag(words)"
   ]
  },
  {
   "cell_type": "code",
   "execution_count": 22,
   "id": "354cc1f7-6b64-4a88-934d-13ed2ccffcd6",
   "metadata": {},
   "outputs": [
    {
     "name": "stdout",
     "output_type": "stream",
     "text": [
      "[('To', 'TO'), ('Sherlock', 'NNP'), ('Holmes', 'NNP'), ('she', 'PRP'), ('is', 'VBZ'), ('always', 'RB'), ('_the_', 'JJ'), ('woman', 'NN'), ('.', '.'), ('I', 'PRP'), ('have', 'VBP'), ('seldom', 'VBN'), ('heard', 'RB'), ('him', 'PRP'), ('mention', 'VB'), ('her', 'PRP'), ('under', 'IN'), ('any', 'DT'), ('other', 'JJ'), ('name', 'NN'), ('.', '.'), ('In', 'IN'), ('his', 'PRP$'), ('eyes', 'NNS'), ('she', 'PRP'), ('eclipses', 'VBZ'), ('and', 'CC'), ('predominates', 'VBZ'), ('the', 'DT'), ('whole', 'NN'), ('of', 'IN'), ('her', 'PRP$'), ('sex', 'NN'), ('.', '.'), ('It', 'PRP'), ('was', 'VBD'), ('not', 'RB'), ('that', 'IN'), ('he', 'PRP'), ('felt', 'VBD'), ('any', 'DT'), ('emotion', 'NN'), ('akin', 'NN'), ('to', 'TO'), ('love', 'VB'), ('for', 'IN'), ('Irene', 'NNP'), ('Adler', 'NNP'), ('.', '.'), ('All', 'DT'), ('emotions', 'NNS'), (',', ','), ('and', 'CC'), ('that', 'IN'), ('one', 'CD'), ('particularly', 'RB'), (',', ','), ('were', 'VBD'), ('abhorrent', 'JJ'), ('to', 'TO'), ('his', 'PRP$'), ('cold', 'NN'), (',', ','), ('precise', 'NN'), ('but', 'CC'), ('admirably', 'RB'), ('balanced', 'VBD'), ('mind', 'NN'), ('.', '.'), ('He', 'PRP'), ('was', 'VBD'), (',', ','), ('I', 'PRP'), ('take', 'VBP'), ('it', 'PRP'), (',', ','), ('the', 'DT'), ('most', 'RBS'), ('perfect', 'JJ'), ('reasoning', 'NN'), ('and', 'CC'), ('observing', 'VBG'), ('machine', 'NN'), ('that', 'IN'), ('the', 'DT'), ('world', 'NN'), ('has', 'VBZ'), ('seen', 'VBN'), (',', ','), ('but', 'CC'), ('as', 'IN'), ('a', 'DT'), ('lover', 'NN'), ('he', 'PRP'), ('would', 'MD'), ('have', 'VB'), ('placed', 'VBN'), ('himself', 'PRP'), ('in', 'IN'), ('a', 'DT'), ('false', 'JJ'), ('position', 'NN'), ('.', '.'), ('He', 'PRP'), ('never', 'RB'), ('spoke', 'VBD'), ('of', 'IN'), ('the', 'DT'), ('softer', 'JJR'), ('passions', 'NNS'), (',', ','), ('save', 'VBP'), ('with', 'IN'), ('a', 'DT'), ('gibe', 'NN'), ('and', 'CC'), ('a', 'DT'), ('sneer', 'NN'), ('.', '.'), ('They', 'PRP'), ('were', 'VBD'), ('admirable', 'JJ'), ('things', 'NNS'), ('for', 'IN'), ('the', 'DT'), ('observer—excellent', 'NN'), ('for', 'IN'), ('drawing', 'VBG'), ('the', 'DT'), ('veil', 'NN'), ('from', 'IN'), ('men', 'NNS'), ('’', 'VBP'), ('s', 'JJ'), ('motives', 'NNS'), ('and', 'CC'), ('actions', 'NNS'), ('.', '.'), ('But', 'CC'), ('for', 'IN'), ('the', 'DT'), ('trained', 'JJ'), ('reasoner', 'NN'), ('to', 'TO'), ('admit', 'VB'), ('such', 'JJ'), ('intrusions', 'NNS'), ('into', 'IN'), ('his', 'PRP$'), ('own', 'JJ'), ('delicate', 'NN'), ('and', 'CC'), ('finely', 'RB'), ('adjusted', 'VBD'), ('temperament', 'NN'), ('was', 'VBD'), ('to', 'TO'), ('introduce', 'VB'), ('a', 'DT'), ('distracting', 'NN'), ('factor', 'NN'), ('which', 'WDT'), ('might', 'MD'), ('throw', 'VB'), ('a', 'DT'), ('doubt', 'NN'), ('upon', 'IN'), ('all', 'PDT'), ('his', 'PRP$'), ('mental', 'JJ'), ('results', 'NNS'), ('.', '.'), ('Grit', 'NNP'), ('in', 'IN'), ('a', 'DT'), ('sensitive', 'JJ'), ('instrument', 'NN'), (',', ','), ('or', 'CC'), ('a', 'DT'), ('crack', 'NN'), ('in', 'IN'), ('one', 'CD'), ('of', 'IN'), ('his', 'PRP$'), ('own', 'JJ'), ('high-power', 'NN'), ('lenses', 'NNS'), (',', ','), ('would', 'MD'), ('not', 'RB'), ('be', 'VB'), ('more', 'RBR'), ('disturbing', 'JJ'), ('than', 'IN'), ('a', 'DT'), ('strong', 'JJ'), ('emotion', 'NN'), ('in', 'IN'), ('a', 'DT'), ('nature', 'NN'), ('such', 'JJ'), ('as', 'IN'), ('his', 'PRP$'), ('.', '.'), ('And', 'CC'), ('yet', 'RB'), ('there', 'EX'), ('was', 'VBD'), ('but', 'CC'), ('one', 'CD'), ('woman', 'NN'), ('to', 'TO'), ('him', 'PRP'), (',', ','), ('and', 'CC'), ('that', 'IN'), ('woman', 'NN'), ('was', 'VBD'), ('the', 'DT'), ('late', 'JJ'), ('Irene', 'NNP'), ('Adler', 'NNP'), (',', ','), ('of', 'IN'), ('dubious', 'JJ'), ('and', 'CC'), ('questionable', 'JJ'), ('memory', 'NN'), ('.', '.')]\n"
     ]
    }
   ],
   "source": [
    "print(words_with_pos)"
   ]
  },
  {
   "cell_type": "code",
   "execution_count": 23,
   "id": "c7fd9866-e951-4ff1-8040-fcc033d80e58",
   "metadata": {},
   "outputs": [
    {
     "name": "stderr",
     "output_type": "stream",
     "text": [
      "[nltk_data] Downloading package tagsets to\n",
      "[nltk_data]     /Users/dariamartinovskaya/nltk_data...\n",
      "[nltk_data]   Package tagsets is already up-to-date!\n"
     ]
    },
    {
     "data": {
      "text/plain": [
       "True"
      ]
     },
     "execution_count": 23,
     "metadata": {},
     "output_type": "execute_result"
    }
   ],
   "source": [
    "nltk.download('tagsets')"
   ]
  },
  {
   "cell_type": "code",
   "execution_count": 24,
   "id": "64c67b7d-56a2-4382-b983-99232416aeb1",
   "metadata": {},
   "outputs": [
    {
     "name": "stdout",
     "output_type": "stream",
     "text": [
      "$: dollar\n",
      "    $ -$ --$ A$ C$ HK$ M$ NZ$ S$ U.S.$ US$\n",
      "'': closing quotation mark\n",
      "    ' ''\n",
      "(: opening parenthesis\n",
      "    ( [ {\n",
      "): closing parenthesis\n",
      "    ) ] }\n",
      ",: comma\n",
      "    ,\n",
      "--: dash\n",
      "    --\n",
      ".: sentence terminator\n",
      "    . ! ?\n",
      ":: colon or ellipsis\n",
      "    : ; ...\n",
      "CC: conjunction, coordinating\n",
      "    & 'n and both but either et for less minus neither nor or plus so\n",
      "    therefore times v. versus vs. whether yet\n",
      "CD: numeral, cardinal\n",
      "    mid-1890 nine-thirty forty-two one-tenth ten million 0.5 one forty-\n",
      "    seven 1987 twenty '79 zero two 78-degrees eighty-four IX '60s .025\n",
      "    fifteen 271,124 dozen quintillion DM2,000 ...\n",
      "DT: determiner\n",
      "    all an another any both del each either every half la many much nary\n",
      "    neither no some such that the them these this those\n",
      "EX: existential there\n",
      "    there\n",
      "FW: foreign word\n",
      "    gemeinschaft hund ich jeux habeas Haementeria Herr K'ang-si vous\n",
      "    lutihaw alai je jour objets salutaris fille quibusdam pas trop Monte\n",
      "    terram fiche oui corporis ...\n",
      "IN: preposition or conjunction, subordinating\n",
      "    astride among uppon whether out inside pro despite on by throughout\n",
      "    below within for towards near behind atop around if like until below\n",
      "    next into if beside ...\n",
      "JJ: adjective or numeral, ordinal\n",
      "    third ill-mannered pre-war regrettable oiled calamitous first separable\n",
      "    ectoplasmic battery-powered participatory fourth still-to-be-named\n",
      "    multilingual multi-disciplinary ...\n",
      "JJR: adjective, comparative\n",
      "    bleaker braver breezier briefer brighter brisker broader bumper busier\n",
      "    calmer cheaper choosier cleaner clearer closer colder commoner costlier\n",
      "    cozier creamier crunchier cuter ...\n",
      "JJS: adjective, superlative\n",
      "    calmest cheapest choicest classiest cleanest clearest closest commonest\n",
      "    corniest costliest crassest creepiest crudest cutest darkest deadliest\n",
      "    dearest deepest densest dinkiest ...\n",
      "LS: list item marker\n",
      "    A A. B B. C C. D E F First G H I J K One SP-44001 SP-44002 SP-44005\n",
      "    SP-44007 Second Third Three Two * a b c d first five four one six three\n",
      "    two\n",
      "MD: modal auxiliary\n",
      "    can cannot could couldn't dare may might must need ought shall should\n",
      "    shouldn't will would\n",
      "NN: noun, common, singular or mass\n",
      "    common-carrier cabbage knuckle-duster Casino afghan shed thermostat\n",
      "    investment slide humour falloff slick wind hyena override subhumanity\n",
      "    machinist ...\n",
      "NNP: noun, proper, singular\n",
      "    Motown Venneboerger Czestochwa Ranzer Conchita Trumplane Christos\n",
      "    Oceanside Escobar Kreisler Sawyer Cougar Yvette Ervin ODI Darryl CTCA\n",
      "    Shannon A.K.C. Meltex Liverpool ...\n",
      "NNPS: noun, proper, plural\n",
      "    Americans Americas Amharas Amityvilles Amusements Anarcho-Syndicalists\n",
      "    Andalusians Andes Andruses Angels Animals Anthony Antilles Antiques\n",
      "    Apache Apaches Apocrypha ...\n",
      "NNS: noun, common, plural\n",
      "    undergraduates scotches bric-a-brac products bodyguards facets coasts\n",
      "    divestitures storehouses designs clubs fragrances averages\n",
      "    subjectivists apprehensions muses factory-jobs ...\n",
      "PDT: pre-determiner\n",
      "    all both half many quite such sure this\n",
      "POS: genitive marker\n",
      "    ' 's\n",
      "PRP: pronoun, personal\n",
      "    hers herself him himself hisself it itself me myself one oneself ours\n",
      "    ourselves ownself self she thee theirs them themselves they thou thy us\n",
      "PRP$: pronoun, possessive\n",
      "    her his mine my our ours their thy your\n",
      "RB: adverb\n",
      "    occasionally unabatingly maddeningly adventurously professedly\n",
      "    stirringly prominently technologically magisterially predominately\n",
      "    swiftly fiscally pitilessly ...\n",
      "RBR: adverb, comparative\n",
      "    further gloomier grander graver greater grimmer harder harsher\n",
      "    healthier heavier higher however larger later leaner lengthier less-\n",
      "    perfectly lesser lonelier longer louder lower more ...\n",
      "RBS: adverb, superlative\n",
      "    best biggest bluntest earliest farthest first furthest hardest\n",
      "    heartiest highest largest least less most nearest second tightest worst\n",
      "RP: particle\n",
      "    aboard about across along apart around aside at away back before behind\n",
      "    by crop down ever fast for forth from go high i.e. in into just later\n",
      "    low more off on open out over per pie raising start teeth that through\n",
      "    under unto up up-pp upon whole with you\n",
      "SYM: symbol\n",
      "    % & ' '' ''. ) ). * + ,. < = > @ A[fj] U.S U.S.S.R * ** ***\n",
      "TO: \"to\" as preposition or infinitive marker\n",
      "    to\n",
      "UH: interjection\n",
      "    Goodbye Goody Gosh Wow Jeepers Jee-sus Hubba Hey Kee-reist Oops amen\n",
      "    huh howdy uh dammit whammo shucks heck anyways whodunnit honey golly\n",
      "    man baby diddle hush sonuvabitch ...\n",
      "VB: verb, base form\n",
      "    ask assemble assess assign assume atone attention avoid bake balkanize\n",
      "    bank begin behold believe bend benefit bevel beware bless boil bomb\n",
      "    boost brace break bring broil brush build ...\n",
      "VBD: verb, past tense\n",
      "    dipped pleaded swiped regummed soaked tidied convened halted registered\n",
      "    cushioned exacted snubbed strode aimed adopted belied figgered\n",
      "    speculated wore appreciated contemplated ...\n",
      "VBG: verb, present participle or gerund\n",
      "    telegraphing stirring focusing angering judging stalling lactating\n",
      "    hankerin' alleging veering capping approaching traveling besieging\n",
      "    encrypting interrupting erasing wincing ...\n",
      "VBN: verb, past participle\n",
      "    multihulled dilapidated aerosolized chaired languished panelized used\n",
      "    experimented flourished imitated reunifed factored condensed sheared\n",
      "    unsettled primed dubbed desired ...\n",
      "VBP: verb, present tense, not 3rd person singular\n",
      "    predominate wrap resort sue twist spill cure lengthen brush terminate\n",
      "    appear tend stray glisten obtain comprise detest tease attract\n",
      "    emphasize mold postpone sever return wag ...\n",
      "VBZ: verb, present tense, 3rd person singular\n",
      "    bases reconstructs marks mixes displeases seals carps weaves snatches\n",
      "    slumps stretches authorizes smolders pictures emerges stockpiles\n",
      "    seduces fizzes uses bolsters slaps speaks pleads ...\n",
      "WDT: WH-determiner\n",
      "    that what whatever which whichever\n",
      "WP: WH-pronoun\n",
      "    that what whatever whatsoever which who whom whosoever\n",
      "WP$: WH-pronoun, possessive\n",
      "    whose\n",
      "WRB: Wh-adverb\n",
      "    how however whence whenever where whereby whereever wherein whereof why\n",
      "``: opening quotation mark\n",
      "    ` ``\n"
     ]
    }
   ],
   "source": [
    "#The list of part of speech tags that NLTK uses\n",
    "nltk.help.upenn_tagset()"
   ]
  },
  {
   "cell_type": "code",
   "execution_count": 26,
   "id": "eedc808d-25e8-4b29-b1f1-93a9c29a4a91",
   "metadata": {},
   "outputs": [],
   "source": [
    "#Import the NLTK Snowball Stemmer\n",
    "from nltk.stem.snowball import SnowballStemmer"
   ]
  },
  {
   "cell_type": "code",
   "execution_count": 27,
   "id": "1b075b52-0750-4464-8c19-ee88a26de936",
   "metadata": {},
   "outputs": [],
   "source": [
    "#Initialize stemmer with English\n",
    "stemmer = SnowballStemmer('english')"
   ]
  },
  {
   "cell_type": "code",
   "execution_count": 28,
   "id": "ee9aff92-3417-4bfd-992d-4aecdf2b0f77",
   "metadata": {},
   "outputs": [],
   "source": [
    "#Initialize a list with words to stem\n",
    "words = ['leaf', 'leaves', 'booking', 'writing', 'completed', 'stemming', 'skies']"
   ]
  },
  {
   "cell_type": "code",
   "execution_count": 29,
   "id": "9c43f277-8ca0-4e12-a71d-11c1cf99d6c2",
   "metadata": {},
   "outputs": [],
   "source": [
    "#Stem the words\n",
    "stemmed_words = [stemmer.stem(word) for word in words]"
   ]
  },
  {
   "cell_type": "code",
   "execution_count": 30,
   "id": "046c981a-4c2d-4a00-b89d-cd8c3cb5897f",
   "metadata": {},
   "outputs": [
    {
     "name": "stdout",
     "output_type": "stream",
     "text": [
      "['leaf', 'leav', 'book', 'write', 'complet', 'stem', 'sky']\n"
     ]
    }
   ],
   "source": [
    "print(stemmed_words)"
   ]
  },
  {
   "cell_type": "code",
   "execution_count": 31,
   "id": "898654a2-3fd5-4702-a947-ea73fb3c6c78",
   "metadata": {},
   "outputs": [
    {
     "name": "stdout",
     "output_type": "stream",
     "text": [
      "('arabic', 'danish', 'dutch', 'english', 'finnish', 'french', 'german', 'hungarian', 'italian', 'norwegian', 'porter', 'portuguese', 'romanian', 'russian', 'spanish', 'swedish')\n"
     ]
    }
   ],
   "source": [
    "print(SnowballStemmer.languages)"
   ]
  },
  {
   "cell_type": "code",
   "execution_count": 32,
   "id": "63173e5b-0fcf-462f-af9e-f3b5579994f1",
   "metadata": {},
   "outputs": [
    {
     "name": "stdout",
     "output_type": "stream",
     "text": [
      "['camin', 'amig', 'buen']\n"
     ]
    }
   ],
   "source": [
    "#Stem the following Spanish words\n",
    "stemmer = SnowballStemmer('spanish')\n",
    "spanish_words = ['caminando', 'amigo', 'bueno']\n",
    "stemmed_words = [stemmer.stem(word) for word in spanish_words]\n",
    "print(stemmed_words)"
   ]
  },
  {
   "cell_type": "code",
   "execution_count": null,
   "id": "7b35f2b8-e3dd-43a5-9188-6e42965d8dcb",
   "metadata": {},
   "outputs": [],
   "source": []
  },
  {
   "cell_type": "code",
   "execution_count": 33,
   "id": "266b330d-427d-4cb5-b855-c68a0c87e97a",
   "metadata": {},
   "outputs": [],
   "source": [
    "#COMBINING SIMILAR WORDS - LEMMATIZATION\n",
    "from nltk.stem import WordNetLemmatizer"
   ]
  },
  {
   "cell_type": "code",
   "execution_count": 34,
   "id": "b9a54ae1-2fdb-4787-af17-c9930a604c41",
   "metadata": {},
   "outputs": [],
   "source": [
    "lemmatizer = WordNetLemmatizer()"
   ]
  },
  {
   "cell_type": "code",
   "execution_count": 35,
   "id": "04498279-8322-4c76-81c9-ba1386f6c593",
   "metadata": {},
   "outputs": [],
   "source": [
    "words = ['duck', 'geese', 'cats', 'books']"
   ]
  },
  {
   "cell_type": "code",
   "execution_count": 36,
   "id": "82dc10a8-ee38-4326-92f8-40257a916ea9",
   "metadata": {},
   "outputs": [],
   "source": [
    "#Lemmatize the words\n",
    "lemmatized_words = [lemmatizer.lemmatize(word) for word in words]"
   ]
  },
  {
   "cell_type": "code",
   "execution_count": 37,
   "id": "893f8646-1bc9-4e99-abe3-a93a997617d6",
   "metadata": {},
   "outputs": [
    {
     "name": "stdout",
     "output_type": "stream",
     "text": [
      "['duck', 'goose', 'cat', 'book']\n"
     ]
    }
   ],
   "source": [
    "print(lemmatized_words)"
   ]
  },
  {
   "cell_type": "code",
   "execution_count": 38,
   "id": "13a51b9c-310c-4a8a-913b-d1228bb23a29",
   "metadata": {},
   "outputs": [
    {
     "data": {
      "text/plain": [
       "'love'"
      ]
     },
     "execution_count": 38,
     "metadata": {},
     "output_type": "execute_result"
    }
   ],
   "source": [
    "lemmatizer.lemmatize('loved', 'v')"
   ]
  },
  {
   "cell_type": "code",
   "execution_count": 39,
   "id": "51fea411-9101-49b5-a497-5a5de57d2d46",
   "metadata": {},
   "outputs": [
    {
     "data": {
      "text/plain": [
       "'bad'"
      ]
     },
     "execution_count": 39,
     "metadata": {},
     "output_type": "execute_result"
    }
   ],
   "source": [
    "lemmatizer.lemmatize('worse', 'a')"
   ]
  },
  {
   "cell_type": "code",
   "execution_count": 43,
   "id": "58cd4b9e-904b-4c52-a32f-2a312ee3a1d3",
   "metadata": {},
   "outputs": [],
   "source": [
    "import sys\n",
    "sys.path.append('/Users/dariamartinovskaya/Downloads/PLN/')\n",
    "from Chapter01.pos_tagging import pos_tag_nltk, read_text_file"
   ]
  },
  {
   "cell_type": "code",
   "execution_count": 44,
   "id": "a5dd2e66-ba0e-43ae-aaa5-62506db14672",
   "metadata": {},
   "outputs": [],
   "source": [
    "#Add a dictionary mapping from NLTK parts of speech tags to lemmatizer-accepted parts of speech tags and a separate set of tags accepted by lemmatizer\n",
    "pos_mapping = {'JJ':'a', 'JJR':'a', 'JJS':'a', 'NN':'n','NNS':'n', 'VBD':'v', 'VBG':'v', 'VBN':'v', 'VBP':'v', 'VBZ':'v'}\n",
    "accepted_pos = {'a', 'v', 'n'}"
   ]
  },
  {
   "cell_type": "code",
   "execution_count": 45,
   "id": "2e6a9210-6f03-4b26-80cd-357ce5892d0b",
   "metadata": {},
   "outputs": [],
   "source": [
    "#Define the lemmatize_long_text function, which will take a long text, tag it with parts of speech, and then lemmatize adjectives, verbs, and nouns\n",
    "def lemmatize_long_text(text):\n",
    "    words = pos_tag_nltk(text)\n",
    "    words = \\\n",
    "    [(word_tuple[0], pos_mapping[word_tuple[1]] if \\\n",
    "        word_tuple[1] in pos_mapping.keys() else\n",
    "        word_tuple[1]) for word_tuple in words]\n",
    "    words = [(lemmatizer.lemmatize(word_tuple[0]) if \\\n",
    "                word_tuple[1] in accepted_pos else \\\n",
    "                word_tuple[0],\n",
    "            word_tuple[1]) for word_tuple in words]\n",
    "    return words"
   ]
  },
  {
   "cell_type": "code",
   "execution_count": 48,
   "id": "e273bddb-2697-431b-a3d1-81ed62280598",
   "metadata": {},
   "outputs": [
    {
     "name": "stdout",
     "output_type": "stream",
     "text": [
      "[('To', 'TO'), ('Sherlock', 'NNP'), ('Holmes', 'NNP'), ('she', 'PRP'), ('is', 'v'), ('always', 'RB'), ('_the_', 'a'), ('woman', 'n'), ('.', '.'), ('I', 'PRP'), ('have', 'v'), ('seldom', 'v'), ('heard', 'RB'), ('him', 'PRP'), ('mention', 'VB'), ('her', 'PRP'), ('under', 'IN'), ('any', 'DT'), ('other', 'a'), ('name', 'n'), ('.', '.'), ('In', 'IN'), ('his', 'PRP$'), ('eye', 'n'), ('she', 'PRP'), ('eclipse', 'v'), ('and', 'CC'), ('predominates', 'v'), ('the', 'DT'), ('whole', 'n'), ('of', 'IN'), ('her', 'PRP$'), ('sex', 'n'), ('.', '.'), ('It', 'PRP'), ('wa', 'v'), ('not', 'RB'), ('that', 'IN'), ('he', 'PRP'), ('felt', 'v'), ('any', 'DT'), ('emotion', 'n'), ('akin', 'n'), ('to', 'TO'), ('love', 'VB'), ('for', 'IN'), ('Irene', 'NNP'), ('Adler', 'NNP'), ('.', '.'), ('All', 'DT'), ('emotion', 'n'), (',', ','), ('and', 'CC'), ('that', 'IN'), ('one', 'CD'), ('particularly', 'RB'), (',', ','), ('were', 'v'), ('abhorrent', 'a'), ('to', 'TO'), ('his', 'PRP$'), ('cold', 'n'), (',', ','), ('precise', 'n'), ('but', 'CC'), ('admirably', 'RB'), ('balanced', 'v'), ('mind', 'n'), ('.', '.'), ('He', 'PRP'), ('wa', 'v'), (',', ','), ('I', 'PRP'), ('take', 'v'), ('it', 'PRP'), (',', ','), ('the', 'DT'), ('most', 'RBS'), ('perfect', 'a'), ('reasoning', 'n'), ('and', 'CC'), ('observing', 'v'), ('machine', 'n'), ('that', 'IN'), ('the', 'DT'), ('world', 'n'), ('ha', 'v'), ('seen', 'v'), (',', ','), ('but', 'CC'), ('as', 'IN'), ('a', 'DT'), ('lover', 'n'), ('he', 'PRP'), ('would', 'MD'), ('have', 'VB'), ('placed', 'v'), ('himself', 'PRP'), ('in', 'IN'), ('a', 'DT'), ('false', 'a'), ('position', 'n'), ('.', '.'), ('He', 'PRP'), ('never', 'RB'), ('spoke', 'v'), ('of', 'IN'), ('the', 'DT'), ('softer', 'a'), ('passion', 'n'), (',', ','), ('save', 'v'), ('with', 'IN'), ('a', 'DT'), ('gibe', 'n'), ('and', 'CC'), ('a', 'DT'), ('sneer', 'n'), ('.', '.'), ('They', 'PRP'), ('were', 'v'), ('admirable', 'a'), ('thing', 'n'), ('for', 'IN'), ('the', 'DT'), ('observer—excellent', 'n'), ('for', 'IN'), ('drawing', 'v'), ('the', 'DT'), ('veil', 'n'), ('from', 'IN'), ('men', 'n'), ('’', 'v'), ('s', 'a'), ('motif', 'n'), ('and', 'CC'), ('action', 'n'), ('.', '.'), ('But', 'CC'), ('for', 'IN'), ('the', 'DT'), ('trained', 'a'), ('reasoner', 'n'), ('to', 'TO'), ('admit', 'VB'), ('such', 'a'), ('intrusion', 'n'), ('into', 'IN'), ('his', 'PRP$'), ('own', 'a'), ('delicate', 'n'), ('and', 'CC'), ('finely', 'RB'), ('adjusted', 'v'), ('temperament', 'n'), ('wa', 'v'), ('to', 'TO'), ('introduce', 'VB'), ('a', 'DT'), ('distracting', 'n'), ('factor', 'n'), ('which', 'WDT'), ('might', 'MD'), ('throw', 'VB'), ('a', 'DT'), ('doubt', 'n'), ('upon', 'IN'), ('all', 'PDT'), ('his', 'PRP$'), ('mental', 'a'), ('result', 'n'), ('.', '.'), ('Grit', 'NNP'), ('in', 'IN'), ('a', 'DT'), ('sensitive', 'a'), ('instrument', 'n'), (',', ','), ('or', 'CC'), ('a', 'DT'), ('crack', 'n'), ('in', 'IN'), ('one', 'CD'), ('of', 'IN'), ('his', 'PRP$'), ('own', 'a'), ('high-power', 'n'), ('lens', 'n'), (',', ','), ('would', 'MD'), ('not', 'RB'), ('be', 'VB'), ('more', 'RBR'), ('disturbing', 'a'), ('than', 'IN'), ('a', 'DT'), ('strong', 'a'), ('emotion', 'n'), ('in', 'IN'), ('a', 'DT'), ('nature', 'n'), ('such', 'a'), ('as', 'IN'), ('his', 'PRP$'), ('.', '.'), ('And', 'CC'), ('yet', 'RB'), ('there', 'EX'), ('wa', 'v'), ('but', 'CC'), ('one', 'CD'), ('woman', 'n'), ('to', 'TO'), ('him', 'PRP'), (',', ','), ('and', 'CC'), ('that', 'IN'), ('woman', 'n'), ('wa', 'v'), ('the', 'DT'), ('late', 'a'), ('Irene', 'NNP'), ('Adler', 'NNP'), (',', ','), ('of', 'IN'), ('dubious', 'a'), ('and', 'CC'), ('questionable', 'a'), ('memory', 'n'), ('.', '.')]\n"
     ]
    }
   ],
   "source": [
    "sherlock_holmes_text = read_text_file(\"/Users/dariamartinovskaya/Downloads/PLN/Chapter01/sherlock_holmes_1.txt\")\n",
    "lem_words = lemmatize_long_text(sherlock_holmes_text)\n",
    "print(lem_words)"
   ]
  }
 ],
 "metadata": {
  "kernelspec": {
   "display_name": "Python 3 (ipykernel)",
   "language": "python",
   "name": "python3"
  },
  "language_info": {
   "codemirror_mode": {
    "name": "ipython",
    "version": 3
   },
   "file_extension": ".py",
   "mimetype": "text/x-python",
   "name": "python",
   "nbconvert_exporter": "python",
   "pygments_lexer": "ipython3",
   "version": "3.12.7"
  }
 },
 "nbformat": 4,
 "nbformat_minor": 5
}
