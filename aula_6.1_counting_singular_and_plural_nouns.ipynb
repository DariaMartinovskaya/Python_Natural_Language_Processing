{
 "cells": [
  {
   "cell_type": "code",
   "execution_count": 52,
   "id": "a76ab392-a578-444b-878d-606a719a397a",
   "metadata": {},
   "outputs": [],
   "source": [
    "#COUNTING NOUNS - PLURAL AND SINGULAR NOUNS\n",
    "\n",
    "import nltk\n",
    "from nltk.stem import WordNetLemmatizer\n",
    "import inflect"
   ]
  },
  {
   "cell_type": "code",
   "execution_count": 6,
   "id": "7f2193ca-10aa-406f-a9ff-076553851850",
   "metadata": {},
   "outputs": [],
   "source": [
    "import sys\n",
    "sys.path.append('/Users/dariamartinovskaya/Downloads/PLN')"
   ]
  },
  {
   "cell_type": "code",
   "execution_count": 7,
   "id": "71f30fa1-78a5-4784-9030-79234ff60881",
   "metadata": {},
   "outputs": [],
   "source": [
    "from Chapter01.pos_tagging import pos_tag_nltk"
   ]
  },
  {
   "cell_type": "code",
   "execution_count": 9,
   "id": "f70a878e-f980-4ae2-b556-79aa44437f4a",
   "metadata": {},
   "outputs": [],
   "source": [
    "filename = \"/Users/dariamartinovskaya/Downloads/PLN/Chapter01/sherlock_holmes_1.txt\"\n",
    "with open(filename, \"r\", encoding=\"utf-8\") as file:\n",
    "    text = file.read()"
   ]
  },
  {
   "cell_type": "code",
   "execution_count": 15,
   "id": "73c710d0-0133-45e3-be97-c8499fb83de8",
   "metadata": {},
   "outputs": [],
   "source": [
    "sherlock_holmes_text = text.replace(\"\\n\", \" \")"
   ]
  },
  {
   "cell_type": "code",
   "execution_count": 16,
   "id": "a22abb55-4b7a-4f9a-92cd-f4e80ce05b8a",
   "metadata": {},
   "outputs": [],
   "source": [
    "words_with_pos = pos_tag_nltk(sherlock_holmes_text)"
   ]
  },
  {
   "cell_type": "code",
   "execution_count": 17,
   "id": "949a782b-e0d2-4129-b54f-6f998399494d",
   "metadata": {},
   "outputs": [],
   "source": [
    "#This function filters out the nouns from all the words\n",
    "def get_nouns(words_with_pos):\n",
    "    noun_set = [\"NN\", \"NNS\"]\n",
    "    nouns = [word for word in words_with_pos if\n",
    "            word[1] in noun_set]\n",
    "    return nouns"
   ]
  },
  {
   "cell_type": "code",
   "execution_count": 18,
   "id": "f42a855b-96c6-4ab7-9e7f-7354b7130a24",
   "metadata": {},
   "outputs": [
    {
     "name": "stdout",
     "output_type": "stream",
     "text": [
      "[('woman', 'NN'), ('name', 'NN'), ('eyes', 'NNS'), ('whole', 'NN'), ('sex', 'NN'), ('emotion', 'NN'), ('akin', 'NN'), ('emotions', 'NNS'), ('cold', 'NN'), ('precise', 'NN'), ('mind', 'NN'), ('reasoning', 'NN'), ('machine', 'NN'), ('world', 'NN'), ('lover', 'NN'), ('position', 'NN'), ('passions', 'NNS'), ('gibe', 'NN'), ('sneer', 'NN'), ('things', 'NNS'), ('observer—excellent', 'NN'), ('veil', 'NN'), ('men', 'NNS'), ('motives', 'NNS'), ('actions', 'NNS'), ('reasoner', 'NN'), ('intrusions', 'NNS'), ('delicate', 'NN'), ('temperament', 'NN'), ('distracting', 'NN'), ('factor', 'NN'), ('doubt', 'NN'), ('results', 'NNS'), ('instrument', 'NN'), ('crack', 'NN'), ('high-power', 'NN'), ('lenses', 'NNS'), ('emotion', 'NN'), ('nature', 'NN'), ('woman', 'NN'), ('woman', 'NN'), ('memory', 'NN')]\n"
     ]
    }
   ],
   "source": [
    "nouns = get_nouns(words_with_pos)\n",
    "print(nouns)"
   ]
  },
  {
   "cell_type": "code",
   "execution_count": 40,
   "id": "b7f83d19-d79d-4e8a-9f26-ea1a09d50396",
   "metadata": {},
   "outputs": [],
   "source": [
    "#These two functions determine whether a noun is singular or plural\n",
    "def is_plural_nltk(noun_info):\n",
    "    pos = noun_info[1]\n",
    "    if (pos == \"NNS\"):\n",
    "        return True\n",
    "    else:\n",
    "        return False"
   ]
  },
  {
   "cell_type": "code",
   "execution_count": 41,
   "id": "46ff281b-9843-4a2e-8150-902fe7b404e5",
   "metadata": {},
   "outputs": [
    {
     "name": "stdout",
     "output_type": "stream",
     "text": [
      "True\n"
     ]
    }
   ],
   "source": [
    "print(is_plural_nltk(('men', 'NNS')))"
   ]
  },
  {
   "cell_type": "code",
   "execution_count": 21,
   "id": "c237584c-7e6d-4435-96d5-6a89fc287366",
   "metadata": {},
   "outputs": [],
   "source": [
    "def is_plural_wn(noun):\n",
    "    wnl = WordNetLemmatizer()\n",
    "    lemma = wnl.lemmatize(noun, 'n')\n",
    "    plural = True if noun is not lemma else False\n",
    "    return plural"
   ]
  },
  {
   "cell_type": "code",
   "execution_count": 28,
   "id": "a38baecf-43c4-48de-8927-73a4372fe658",
   "metadata": {},
   "outputs": [
    {
     "name": "stdout",
     "output_type": "stream",
     "text": [
      "True\n"
     ]
    }
   ],
   "source": [
    "print(is_plural_wn('dogs'))"
   ]
  },
  {
   "cell_type": "code",
   "execution_count": 29,
   "id": "b7389718-bd08-42e4-acb5-ba46782d7078",
   "metadata": {},
   "outputs": [
    {
     "name": "stdout",
     "output_type": "stream",
     "text": [
      "False\n"
     ]
    }
   ],
   "source": [
    "print(is_plural_wn('dog'))"
   ]
  },
  {
   "cell_type": "code",
   "execution_count": 38,
   "id": "d7bcd9ab-6ef3-4596-b814-f11280fe81ef",
   "metadata": {},
   "outputs": [],
   "source": [
    "# This function changes a singular noun into plural\n",
    "def get_plural(singular_noun):\n",
    "    p = inflect.engine()\n",
    "    return p.plural(singular_noun)"
   ]
  },
  {
   "cell_type": "code",
   "execution_count": 39,
   "id": "75a94d55-7993-4fb2-84c8-bded9cd0934b",
   "metadata": {},
   "outputs": [
    {
     "name": "stdout",
     "output_type": "stream",
     "text": [
      "dogs\n"
     ]
    }
   ],
   "source": [
    "print(get_plural('dog'))"
   ]
  },
  {
   "cell_type": "code",
   "execution_count": 43,
   "id": "125a8c68-dbed-4e89-ba82-0db5c5810d50",
   "metadata": {},
   "outputs": [],
   "source": [
    "# This function changes a plural noun into singular\n",
    "def get_singular(plural_noun):\n",
    "    p = inflect.engine()\n",
    "    plural = p.singular_noun(plural_noun)\n",
    "    print(plural)\n",
    "    if (plural):\n",
    "        return plural\n",
    "    else:\n",
    "        return plural_noun"
   ]
  },
  {
   "cell_type": "code",
   "execution_count": 44,
   "id": "6ec006de-ba69-428b-ba6f-e08a0830259e",
   "metadata": {},
   "outputs": [
    {
     "name": "stdout",
     "output_type": "stream",
     "text": [
      "dog\n",
      "dog\n"
     ]
    }
   ],
   "source": [
    "print(get_singular('dogs'))"
   ]
  },
  {
   "cell_type": "code",
   "execution_count": 45,
   "id": "6e1a9fd0-bc13-41bb-b8c1-58facd5b0c68",
   "metadata": {},
   "outputs": [
    {
     "name": "stdout",
     "output_type": "stream",
     "text": [
      "False\n",
      "dog\n"
     ]
    }
   ],
   "source": [
    "print(get_singular('dog'))"
   ]
  },
  {
   "cell_type": "code",
   "execution_count": 46,
   "id": "2fd66f7b-4517-4e75-8f43-d23077999618",
   "metadata": {},
   "outputs": [],
   "source": [
    "#Functions to return a list of nouns changed into plural or singular, depending on the original noun\n",
    "def plurals_wn(words_with_pos):\n",
    "    other_nouns = []\n",
    "    for noun_info in words_with_pos:\n",
    "        word = noun_info[0]\n",
    "        plural = is_plural_wn(word)\n",
    "        if (plural):\n",
    "            singular = get_singular(word)\n",
    "            other_nouns.append(singular)\n",
    "        else:\n",
    "            plural = get_plural(word)\n",
    "            other_nouns.append(plural)\n",
    "    return other_nouns"
   ]
  },
  {
   "cell_type": "code",
   "execution_count": 50,
   "id": "38895ea5-5748-4dce-87b4-7b557a38b477",
   "metadata": {},
   "outputs": [
    {
     "name": "stdout",
     "output_type": "stream",
     "text": [
      "eye\n",
      "emotion\n",
      "passion\n",
      "thing\n",
      "motive\n",
      "action\n",
      "intrusion\n",
      "result\n",
      "lens\n"
     ]
    }
   ],
   "source": [
    "other_nouns_wn = plurals_wn(nouns)"
   ]
  },
  {
   "cell_type": "code",
   "execution_count": 51,
   "id": "53769d06-d80b-454e-9be7-6d678ca1ee02",
   "metadata": {},
   "outputs": [
    {
     "name": "stdout",
     "output_type": "stream",
     "text": [
      "['women', 'names', 'eye', 'wholes', 'sexes', 'emotions', 'akins', 'emotion', 'colds', 'precises', 'minds', 'reasonings', 'machines', 'worlds', 'lovers', 'positions', 'passion', 'gibes', 'sneers', 'thing', 'observer—excellents', 'veils', 'mens', 'motive', 'action', 'reasoners', 'intrusion', 'delicates', 'temperaments', 'distractings', 'factors', 'doubts', 'result', 'instruments', 'cracks', 'high-powers', 'lens', 'emotions', 'natures', 'women', 'women', 'memories']\n"
     ]
    }
   ],
   "source": [
    "print(other_nouns_wn)"
   ]
  }
 ],
 "metadata": {
  "kernelspec": {
   "display_name": "Python 3 (ipykernel)",
   "language": "python",
   "name": "python3"
  },
  "language_info": {
   "codemirror_mode": {
    "name": "ipython",
    "version": 3
   },
   "file_extension": ".py",
   "mimetype": "text/x-python",
   "name": "python",
   "nbconvert_exporter": "python",
   "pygments_lexer": "ipython3",
   "version": "3.12.7"
  }
 },
 "nbformat": 4,
 "nbformat_minor": 5
}
