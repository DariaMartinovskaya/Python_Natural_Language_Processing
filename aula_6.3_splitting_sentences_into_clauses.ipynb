{
 "cells": [
  {
   "cell_type": "code",
   "execution_count": 2,
   "id": "6f25817c-05b0-4596-a102-5f522ec5d242",
   "metadata": {},
   "outputs": [],
   "source": [
    "#SPLITTING SENTENCES INTO CLAUSES\n",
    "import spacy"
   ]
  },
  {
   "cell_type": "code",
   "execution_count": 3,
   "id": "21e75692-ecd9-4ba9-9b05-4434b3a95317",
   "metadata": {},
   "outputs": [],
   "source": [
    "nlp = spacy.load('en_core_web_sm')"
   ]
  },
  {
   "cell_type": "code",
   "execution_count": 4,
   "id": "b87383bf-9c96-4525-a876-8a68b94af41c",
   "metadata": {},
   "outputs": [],
   "source": [
    "sentence = \"He eats cheese, but he won't eat ice cream.\""
   ]
  },
  {
   "cell_type": "code",
   "execution_count": 5,
   "id": "b9a23497-535f-4cdd-ab82-de301fa99d7a",
   "metadata": {},
   "outputs": [],
   "source": [
    "doc = nlp(sentence)"
   ]
  },
  {
   "cell_type": "code",
   "execution_count": 6,
   "id": "eb0b4c6e-6ded-4222-a78e-f17ac99404cf",
   "metadata": {},
   "outputs": [
    {
     "name": "stdout",
     "output_type": "stream",
     "text": [
      "He \t 0 \t PRON \t nsubj \t ['eats'] \t []\n",
      "eats \t 1 \t VERB \t ROOT \t [] \t ['He', 'cheese', ',', 'but', 'eat']\n",
      "cheese \t 2 \t NOUN \t dobj \t ['eats'] \t []\n",
      ", \t 3 \t PUNCT \t punct \t ['eats'] \t []\n",
      "but \t 4 \t CCONJ \t cc \t ['eats'] \t []\n",
      "he \t 5 \t PRON \t nsubj \t ['eat', 'eats'] \t []\n",
      "wo \t 6 \t AUX \t aux \t ['eat', 'eats'] \t []\n",
      "n't \t 7 \t PART \t neg \t ['eat', 'eats'] \t []\n",
      "eat \t 8 \t VERB \t conj \t ['eats'] \t ['he', 'wo', \"n't\", 'cream', '.']\n",
      "ice \t 9 \t NOUN \t compound \t ['cream', 'eat', 'eats'] \t []\n",
      "cream \t 10 \t NOUN \t dobj \t ['eat', 'eats'] \t ['ice']\n",
      ". \t 11 \t PUNCT \t punct \t ['eat', 'eats'] \t []\n"
     ]
    }
   ],
   "source": [
    "#Function to look at the structure of the input sentence by printing out the part of speech, dependency tag, ancestors, and children of each token\n",
    "for token in doc:\n",
    "    ancestors = [t.text for t in token.ancestors]\n",
    "    children = [t.text for t in token.children]\n",
    "    print(token.text, \"\\t\", token.i, \"\\t\",\n",
    "        token.pos_, \"\\t\", token.dep_, \"\\t\",\n",
    "        ancestors, \"\\t\", children)"
   ]
  },
  {
   "cell_type": "code",
   "execution_count": 24,
   "id": "abcce579-7f8a-4f4d-ad0e-35aefa4eaa72",
   "metadata": {},
   "outputs": [],
   "source": [
    "#Function to find the root token of the sentence, which is usually the main verb\n",
    "def find_root_of_sentence(doc):\n",
    "    root_token = None\n",
    "    for token in doc:\n",
    "        #print(token.text)\n",
    "        if (token.dep_ == \"ROOT\"):\n",
    "            return token"
   ]
  },
  {
   "cell_type": "code",
   "execution_count": 27,
   "id": "58f770d4-8d75-4de9-bb88-b1b693d6e528",
   "metadata": {},
   "outputs": [
    {
     "name": "stdout",
     "output_type": "stream",
     "text": [
      "eats\n"
     ]
    }
   ],
   "source": [
    "print(find_root_of_sentence(doc))"
   ]
  },
  {
   "cell_type": "code",
   "execution_count": 28,
   "id": "3934e8f4-d5ec-411a-9017-c904cacd6ab5",
   "metadata": {},
   "outputs": [],
   "source": [
    "root_token = find_root_of_sentence(doc)"
   ]
  },
  {
   "cell_type": "code",
   "execution_count": 29,
   "id": "29815ba7-ad68-4e71-9d78-b0c2e76d6e7f",
   "metadata": {},
   "outputs": [],
   "source": [
    "#Function to find the other verbs in the sentence\n",
    "def find_other_verbs(doc, root_token):\n",
    "    other_verbs = []\n",
    "    for token in doc:\n",
    "        ancestors = list(token.ancestors)\n",
    "        if (token.pos_ == \"VERB\" and len(ancestors) == 1\\\n",
    "            and ancestors[0] == root_token):\n",
    "            other_verbs.append(token)\n",
    "    return other_verbs"
   ]
  },
  {
   "cell_type": "code",
   "execution_count": 30,
   "id": "1328befd-5301-4cab-9a1b-09f9e62528f9",
   "metadata": {},
   "outputs": [],
   "source": [
    "#Function to find the remaining verbs in the sentence\n",
    "other_verbs = find_other_verbs(doc, root_token)"
   ]
  },
  {
   "cell_type": "code",
   "execution_count": 31,
   "id": "eb079321-a514-4cc2-a9ec-11392a96618f",
   "metadata": {},
   "outputs": [],
   "source": [
    "#Function to find the token spans for each verb\n",
    "def get_clause_token_span_for_verb(verb, doc, all_verbs):\n",
    "    first_token_index = len(doc)\n",
    "    last_token_index = 0\n",
    "    this_verb_children = list(verb.children)\n",
    "    for child in this_verb_children:\n",
    "        if (child not in all_verbs):\n",
    "            if (child.i < first_token_index):\n",
    "                first_token_index = child.i\n",
    "        if (child.i > last_token_index):\n",
    "            last_token_index = child.i\n",
    "    return(first_token_index, last_token_index)"
   ]
  },
  {
   "cell_type": "code",
   "execution_count": 32,
   "id": "c194e7a6-80ce-49f4-b1b4-16eb52c5ebda",
   "metadata": {},
   "outputs": [],
   "source": [
    "#To put together all the verbs in one array and process each using the preceding function. This will return a tuple of start and end indices for each verb's clause\n",
    "token_spans = []\n",
    "all_verbs = [root_token] + other_verbs\n",
    "for other_verb in all_verbs:\n",
    "    (first_token_index, last_token_index) = \\\n",
    "    get_clause_token_span_for_verb(other_verb, doc, all_verbs)\n",
    "    token_spans.append((first_token_index, last_token_index))"
   ]
  },
  {
   "cell_type": "code",
   "execution_count": 33,
   "id": "c55d02cc-6b67-4564-a5b5-6e2a7503f434",
   "metadata": {},
   "outputs": [],
   "source": [
    "#To put together token spans for each clause\n",
    "sentence_clauses = []\n",
    "for token_span in token_spans:\n",
    "    start = token_span[0]\n",
    "    end = token_span[1]\n",
    "    if (start < end):\n",
    "        clause = doc[start:end]\n",
    "        sentence_clauses.append(clause)\n",
    "sentence_clauses = sorted(sentence_clauses, key=lambda tup: tup[0])"
   ]
  },
  {
   "cell_type": "code",
   "execution_count": 34,
   "id": "5528b55c-df51-4b8b-955f-daed55dc0329",
   "metadata": {},
   "outputs": [
    {
     "name": "stdout",
     "output_type": "stream",
     "text": [
      "[\"He eats cheese, but he won't\", \"he won't eat ice cream\"]\n"
     ]
    }
   ],
   "source": [
    "clauses_text = [clause.text for clause in sentence_clauses]\n",
    "print(clauses_text)"
   ]
  }
 ],
 "metadata": {
  "kernelspec": {
   "display_name": "Python 3 (ipykernel)",
   "language": "python",
   "name": "python3"
  },
  "language_info": {
   "codemirror_mode": {
    "name": "ipython",
    "version": 3
   },
   "file_extension": ".py",
   "mimetype": "text/x-python",
   "name": "python",
   "nbconvert_exporter": "python",
   "pygments_lexer": "ipython3",
   "version": "3.12.7"
  }
 },
 "nbformat": 4,
 "nbformat_minor": 5
}
