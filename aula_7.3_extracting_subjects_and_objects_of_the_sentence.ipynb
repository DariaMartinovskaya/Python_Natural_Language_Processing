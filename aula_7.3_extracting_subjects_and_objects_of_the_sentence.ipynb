{
 "cells": [
  {
   "cell_type": "code",
   "execution_count": 10,
   "id": "be353481-5aed-4e7a-92c1-38fbaaf40e06",
   "metadata": {},
   "outputs": [],
   "source": [
    "#EXTRACTING SUBJECTS AND OBJECTS OF THE SENTENCE\n",
    "import spacy"
   ]
  },
  {
   "cell_type": "code",
   "execution_count": 11,
   "id": "81b4f460-a07f-4fec-a0c7-41f14fecc519",
   "metadata": {},
   "outputs": [],
   "source": [
    "nlp = spacy.load('en_core_web_sm')"
   ]
  },
  {
   "cell_type": "code",
   "execution_count": 12,
   "id": "2513765d-8307-4b65-ac1a-1ef1e34e92c1",
   "metadata": {},
   "outputs": [],
   "source": [
    "sentences=[\"The big black cat stared at the small dog.\", \"Jane watched her brother in the evenings.\"]"
   ]
  },
  {
   "cell_type": "code",
   "execution_count": 13,
   "id": "48c0655f-576a-46f9-91e9-35d797d98d2c",
   "metadata": {},
   "outputs": [],
   "source": [
    "#To find the subject and the direct object of the sentence\n",
    "def get_subject_phrase(doc):\n",
    "    for token in doc:\n",
    "        if (\"subj\" in token.dep_):\n",
    "            subtree = list(token.subtree)\n",
    "            start = subtree[0].i\n",
    "            end = subtree[-1].i + 1\n",
    "            return doc[start:end]"
   ]
  },
  {
   "cell_type": "code",
   "execution_count": 16,
   "id": "50314a8c-75ca-41da-ad66-fe1a30f9eb15",
   "metadata": {},
   "outputs": [
    {
     "name": "stdout",
     "output_type": "stream",
     "text": [
      "her brother\n"
     ]
    }
   ],
   "source": [
    "def get_object_phrase(doc):\n",
    "    for token in doc:\n",
    "        if (\"dobj\" in token.dep_):\n",
    "            subtree = list(token.subtree)\n",
    "            start = subtree[0].i\n",
    "            end = subtree[-1].i + 1\n",
    "            return doc[start:end]\n",
    "print(get_object_phrase(doc))"
   ]
  },
  {
   "cell_type": "code",
   "execution_count": 17,
   "id": "5e002848-918d-44c7-bdcf-8a5b00ab59f7",
   "metadata": {},
   "outputs": [
    {
     "name": "stdout",
     "output_type": "stream",
     "text": [
      "The big black cat\n",
      "None\n",
      "Jane\n",
      "her brother\n"
     ]
    }
   ],
   "source": [
    "#To loop through the sentences and print out their subjects and objects\n",
    "for sentence in sentences:\n",
    "    doc = nlp(sentence)\n",
    "    subject_phrase = get_subject_phrase(doc)\n",
    "    object_phrase = get_object_phrase(doc)\n",
    "    print(subject_phrase)\n",
    "    print(object_phrase)"
   ]
  },
  {
   "cell_type": "code",
   "execution_count": null,
   "id": "d240762d-b22f-426d-8528-50ec9bfde715",
   "metadata": {},
   "outputs": [],
   "source": []
  }
 ],
 "metadata": {
  "kernelspec": {
   "display_name": "Python 3 (ipykernel)",
   "language": "python",
   "name": "python3"
  },
  "language_info": {
   "codemirror_mode": {
    "name": "ipython",
    "version": 3
   },
   "file_extension": ".py",
   "mimetype": "text/x-python",
   "name": "python",
   "nbconvert_exporter": "python",
   "pygments_lexer": "ipython3",
   "version": "3.12.7"
  }
 },
 "nbformat": 4,
 "nbformat_minor": 5
}
