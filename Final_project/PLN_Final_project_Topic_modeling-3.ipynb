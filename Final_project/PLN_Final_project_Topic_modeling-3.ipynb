{
 "cells": [
  {
   "cell_type": "code",
   "execution_count": 80,
   "id": "9345482a-acb3-4d56-9d72-63c63e3cbc9f",
   "metadata": {},
   "outputs": [],
   "source": [
    "#TOPIC MODELING\n",
    "#LDA topic modeling with sklearn\n",
    "import re\n",
    "import pandas as pd"
   ]
  },
  {
   "cell_type": "code",
   "execution_count": 81,
   "id": "268daea9-2c53-4c10-9c7d-e98fed5c3e45",
   "metadata": {},
   "outputs": [],
   "source": [
    "from sklearn.feature_extraction.text import CountVectorizer"
   ]
  },
  {
   "cell_type": "code",
   "execution_count": 82,
   "id": "4e4c9dc8-4859-416c-810d-09bce5a1cd8a",
   "metadata": {},
   "outputs": [],
   "source": [
    "from sklearn.decomposition import LatentDirichletAllocation as LDA"
   ]
  },
  {
   "cell_type": "code",
   "execution_count": 83,
   "id": "1660b953-6db9-43a5-b15a-ce352ef49d30",
   "metadata": {},
   "outputs": [],
   "source": [
    "import sys\n",
    "sys.path.append('/Users/dariamartinovskaya/Downloads/PLN')\n",
    "from Chapter04.preprocess_bbc_dataset import get_stopwords\n",
    "stopwords_file_path = \"/Users/dariamartinovskaya/Downloads/PLN/Chapter01/stopwords.csv\"\n",
    "stopwords = get_stopwords(stopwords_file_path)\n",
    "bbc_dataset = \"/Users/dariamartinovskaya/Downloads/PLN/Chapter04/bbc-text.csv\""
   ]
  },
  {
   "cell_type": "code",
   "execution_count": 84,
   "id": "f4b579ab-31bc-4068-9f95-b9ca596e5311",
   "metadata": {},
   "outputs": [],
   "source": [
    "os.chdir('/Users/dariamartinovskaya/Downloads/PLN')\n",
    "from Chapter04.unsupervised_text_classification import tokenize_and_stem\n",
    "stopwords_file_path = \"/Users/dariamartinovskaya/Downloads/PLN/Chapter01/stopwords.csv\"\n",
    "stopwords = get_stopwords(stopwords_file_path)\n",
    "bbc_dataset = \"/Users/dariamartinovskaya/Downloads/PLN/Chapter04/bbc-text.csv\""
   ]
  },
  {
   "cell_type": "code",
   "execution_count": 85,
   "id": "1ab873eb-3df7-4795-84b0-e1786fc4aa45",
   "metadata": {},
   "outputs": [],
   "source": [
    "def create_count_vectorizer(documents):\n",
    "    count_vectorizer = \\\n",
    "    CountVectorizer(stop_words=stopwords, tokenizer=tokenize_and_stem)\n",
    "    data = count_vectorizer.fit_transform(documents)\n",
    "    return (count_vectorizer, data)"
   ]
  },
  {
   "cell_type": "code",
   "execution_count": 86,
   "id": "a659ad2d-13bd-4527-ae5a-ebf1cb9121bf",
   "metadata": {},
   "outputs": [],
   "source": [
    "def clean_data(df):\n",
    "    df['text'] = \\\n",
    "    df['text'].apply(lambda x: re.sub(r'[^\\w\\s]', ' ', x))\n",
    "    df['text'] = \\\n",
    "    df['text'].apply(lambda x: re.sub(r'\\d', '', x))\n",
    "    return df"
   ]
  },
  {
   "cell_type": "code",
   "execution_count": 87,
   "id": "d7dc34d2-8b51-4dd3-bce2-9fed3e166c13",
   "metadata": {},
   "outputs": [],
   "source": [
    "def create_and_fit_lda(data, num_topics):\n",
    "    lda = LDA(n_components=num_topics, n_jobs=-1)\n",
    "    lda.fit(data)\n",
    "    return lda"
   ]
  },
  {
   "cell_type": "code",
   "execution_count": 88,
   "id": "017b1f97-8888-4c12-9bdd-4b30c57e2d3d",
   "metadata": {},
   "outputs": [],
   "source": [
    "def get_most_common_words_for_topics(model, vectorizer, n_top_words):\n",
    "    words = vectorizer.get_feature_names_out() \n",
    "    word_dict = {}\n",
    "    for topic_index, topic in enumerate(model.components_):\n",
    "        word_dict[f\"Topic {topic_index}\"] = [words[i] for i in topic.argsort()[-n_top_words:]]\n",
    "    return word_dict"
   ]
  },
  {
   "cell_type": "code",
   "execution_count": 89,
   "id": "f64849ba-47fe-481d-b643-10f44a3d3256",
   "metadata": {},
   "outputs": [],
   "source": [
    "def print_topic_words(word_dict):\n",
    "    for key in word_dict.keys():\n",
    "        print(f\"Topic {key}\")\n",
    "        print(\"\\t\", word_dict[key])"
   ]
  },
  {
   "cell_type": "code",
   "execution_count": 90,
   "id": "945af3e7-ecb4-4ede-9eb4-5fddaf1de3a8",
   "metadata": {},
   "outputs": [],
   "source": [
    "df = pd.read_csv(bbc_dataset)\n",
    "df = clean_data(df)\n",
    "documents = df['text']"
   ]
  },
  {
   "cell_type": "code",
   "execution_count": 91,
   "id": "2d19efd5-22a2-4c86-8434-47c272627338",
   "metadata": {},
   "outputs": [],
   "source": [
    "number_topics = 5"
   ]
  },
  {
   "cell_type": "code",
   "execution_count": 92,
   "id": "1cd2eb67-bfe2-4b93-8a6d-c71e9037f913",
   "metadata": {},
   "outputs": [
    {
     "name": "stderr",
     "output_type": "stream",
     "text": [
      "/opt/anaconda3/envs/dariaenv/lib/python3.12/site-packages/sklearn/feature_extraction/text.py:517: UserWarning: The parameter 'token_pattern' will not be used since 'tokenizer' is not None'\n",
      "  warnings.warn(\n",
      "/opt/anaconda3/envs/dariaenv/lib/python3.12/site-packages/sklearn/feature_extraction/text.py:402: UserWarning: Your stop_words may be inconsistent with your preprocessing. Tokenizing the stop words generated tokens ['anywh', 'el', 'elsewh', 'everywh', 'l', 'otherwi', 'plea', 'somewh', 'v', 'wor'] not in stop_words.\n",
      "  warnings.warn(\n"
     ]
    }
   ],
   "source": [
    "(vectorizer, data) = create_count_vectorizer(documents)\n",
    "lda = create_and_fit_lda(data, number_topics)"
   ]
  },
  {
   "cell_type": "code",
   "execution_count": 93,
   "id": "e51f12f4-50fa-4762-981d-4844a4274324",
   "metadata": {},
   "outputs": [
    {
     "name": "stdout",
     "output_type": "stream",
     "text": [
      "Topic Topic 0\n",
      "\t ['servic', 'phone', 'make', 'mobil', 'new', 'technolog', 'music', 'game', 'peopl', 'use']\n",
      "Topic Topic 1\n",
      "\t ['tori', 'blair', 'plan', 'peopl', 'minist', 'parti', 'labour', 'elect', 'say', 'govern']\n",
      "Topic Topic 2\n",
      "\t ['player', 'wale', 'back', 'world', 'first', 'win', 'game', 'play', 'england', 'year']\n",
      "Topic Topic 3\n",
      "\t ['month', 'share', 'price', 'sale', 'm', 'firm', 'market', 'compani', 'bn', 'year']\n",
      "Topic Topic 4\n",
      "\t ['won', 'play', 'win', 'time', 'star', 'award', 'best', 'year', 'm', 'film']\n"
     ]
    }
   ],
   "source": [
    "topic_words = \\\n",
    "get_most_common_words_for_topics(lda, vectorizer, 10)\n",
    "print_topic_words(topic_words)"
   ]
  },
  {
   "cell_type": "code",
   "execution_count": 94,
   "id": "efab783b-f4ec-41f2-bed1-09f11e376a71",
   "metadata": {},
   "outputs": [],
   "source": [
    " import pickle"
   ]
  },
  {
   "cell_type": "code",
   "execution_count": 95,
   "id": "61b94469-8d05-43d9-8bf3-4103f66f52da",
   "metadata": {},
   "outputs": [],
   "source": [
    "model_path = \"/Users/dariamartinovskaya/Downloads/PLN/Chapter06/lda_sklearn.pkl\"\n",
    "vectorizer_path = \"/Users/dariamartinovskaya/Downloads/PLN/Chapter06/vectorizer.pkl\""
   ]
  },
  {
   "cell_type": "code",
   "execution_count": 96,
   "id": "313e8077-9b32-4e85-ad56-3cdb3811da3a",
   "metadata": {},
   "outputs": [],
   "source": [
    "new_example = \"\"\"Manchester United players slumped to the turf at full-time in Germany on Tuesday in acknowledgement of what their latest pedestrian first- half display had cost them. The 3-2 loss at RB Leipzig means United will not be one of the 16 teams in the draw for the knockout stages of the Champions League. And this is not the only price for failure. The damage will be felt in the accounts, in the dealings they have with current and potentially future players and in the faith the fans have placed in manager Ole Gunnar Solskjaer. With Paul Pogba's agent angling for a move for his client and ex-United defender Phil Neville speaking of a \"witchhunt\" against his former team-mate Solskjaer, BBC Sport looks at the ramifications and reaction to a big loss for United.\"\"\""
   ]
  },
  {
   "cell_type": "code",
   "execution_count": 98,
   "id": "35ac34f7-929d-4843-8ba1-34f3c165c3c0",
   "metadata": {},
   "outputs": [],
   "source": [
    "def save_model(lda, lda_path, vect, vect_path):\n",
    "    pickle.dump(lda, open(lda_path, 'wb'))\n",
    "    pickle.dump(vect, open(vect_path, 'wb'))"
   ]
  },
  {
   "cell_type": "code",
   "execution_count": 99,
   "id": "d3d60a9e-5438-47f8-96a0-10142c92fd3d",
   "metadata": {},
   "outputs": [],
   "source": [
    "def test_new_example(lda, vect, example):\n",
    "    vectorized = vect.transform([example])\n",
    "    topic = lda.transform(vectorized)\n",
    "    print(topic)\n",
    "    return topic"
   ]
  },
  {
   "cell_type": "code",
   "execution_count": 100,
   "id": "af8fa2a2-01dd-493c-8d51-dc76421c6a31",
   "metadata": {},
   "outputs": [
    {
     "name": "stdout",
     "output_type": "stream",
     "text": [
      "[[0.00345405 0.06308028 0.03867231 0.23318821 0.66160516]]\n"
     ]
    },
    {
     "data": {
      "text/plain": [
       "array([[0.00345405, 0.06308028, 0.03867231, 0.23318821, 0.66160516]])"
      ]
     },
     "execution_count": 100,
     "metadata": {},
     "output_type": "execute_result"
    }
   ],
   "source": [
    "test_new_example(lda, vectorizer, new_example)"
   ]
  },
  {
   "cell_type": "code",
   "execution_count": 253,
   "id": "c32ce9c2-fcce-4405-91dc-fcefe0a6c768",
   "metadata": {},
   "outputs": [],
   "source": [
    "#LDA topic modeling with gensim\n",
    "import os\n",
    "import re\n",
    "import pandas as pd\n",
    "from gensim.models.ldamodel import LdaModel\n",
    "import gensim.corpora as corpora\n",
    "from gensim.utils import simple_preprocess\n",
    "import matplotlib.pyplot as plt\n",
    "from pprint import pprint\n",
    "import nltk\n",
    "from nltk.probability import FreqDist\n",
    "from nltk.stem.snowball import SnowballStemmer\n",
    "\n",
    "# from Chapter06.lda_topic import stopwords, bbc_dataset, clean_data\n",
    "\n",
    "curerntPath = os.getcwd() \n",
    "stopwords_file_path = \"/Users/dariamartinovskaya/Downloads/PLN/Chapter01/stopwords.csv\"\n",
    "stemmer = SnowballStemmer('english')"
   ]
  },
  {
   "cell_type": "code",
   "execution_count": 254,
   "id": "41a75af3-292f-4b46-a235-ca8ad0c55e07",
   "metadata": {},
   "outputs": [],
   "source": [
    "def read_in_csv(filename):\n",
    "    file = open(filename, \"r\", encoding=\"utf-8\")\n",
    "    text = file.read()\n",
    "    text = text.replace(\"\\n\", \" \")\n",
    "    words = nltk.tokenize.word_tokenize(text)\n",
    "    freq_dist = FreqDist(word.lower() for word in words)\n",
    "    words_with_frequencies = [(word, freq_dist[word]) for word in freq_dist.keys()]\n",
    "    sorted_words = sorted(words_with_frequencies, key=lambda tup: tup[1])\n",
    "    length_cutoff = int(0.02*len(sorted_words))\n",
    "    stopwords = [tuple[0] for tuple in sorted_words[-length_cutoff:]]\n",
    "    return stopwords"
   ]
  },
  {
   "cell_type": "code",
   "execution_count": 255,
   "id": "b67571bd-f1be-4b71-967a-50b2745a1e5d",
   "metadata": {},
   "outputs": [],
   "source": [
    "def get_stopwords(path=stopwords_file_path):\n",
    "    stopwords = read_in_csv(path)\n",
    "    stopwords = [word[0] for word in stopwords]\n",
    "    stemmed_stopwords = [stemmer.stem(word) for word in stopwords]\n",
    "    stopwords = stopwords + stemmed_stopwords\n",
    "    return stopwords\n",
    "\n",
    "stopwords = get_stopwords(stopwords_file_path)\n",
    "bbc_dataset = os.path.join(curerntPath, \"/Users/dariamartinovskaya/Downloads/PLN/Chapter04/bbc-text.csv\")"
   ]
  },
  {
   "cell_type": "code",
   "execution_count": 256,
   "id": "0be35fc8-f912-4cee-9b74-ba6967019fec",
   "metadata": {},
   "outputs": [],
   "source": [
    "def clean_data(df):\n",
    "    df['text'] = df['text'].apply(lambda x: re.sub(r'[^\\w\\s]', ' ', x))\n",
    "    df['text'] = df['text'].apply(lambda x: re.sub(r'\\d', '', x))\n",
    "    return df"
   ]
  },
  {
   "cell_type": "code",
   "execution_count": 257,
   "id": "00b1a273-3997-476e-b886-46863012b985",
   "metadata": {},
   "outputs": [],
   "source": [
    "def preprocess(df):\n",
    "    df = clean_data(df)\n",
    "    df['text'] = df['text'].apply(lambda x: simple_preprocess(x, deacc=True))\n",
    "    df['text'] = df['text'].apply(lambda x: [word for word in x if word not in stopwords])\n",
    "    return df"
   ]
  },
  {
   "cell_type": "code",
   "execution_count": 258,
   "id": "a7a6615d-a97c-4c46-8a7e-86d0d2f4ded6",
   "metadata": {},
   "outputs": [],
   "source": [
    "def create_lda_model(id_dict, corpus, num_topics):\n",
    "    lda_model = LdaModel(corpus=corpus,\n",
    "        id2word=id_dict,\n",
    "        num_topics=num_topics,\n",
    "        random_state=100,\n",
    "        chunksize=100,\n",
    "        passes=10)\n",
    "    return lda_model"
   ]
  },
  {
   "cell_type": "code",
   "execution_count": 259,
   "id": "879ba836-89ef-49a7-8b04-c05fb25bc3b5",
   "metadata": {},
   "outputs": [],
   "source": [
    "df = pd.read_csv(bbc_dataset)\n",
    "df = preprocess(df)"
   ]
  },
  {
   "cell_type": "code",
   "execution_count": 260,
   "id": "0f4a8703-a70c-4c68-af59-d594651b81bd",
   "metadata": {},
   "outputs": [],
   "source": [
    "texts = df['text'].values\n",
    "id_dict = corpora.Dictionary(texts)\n",
    "corpus = [id_dict.doc2bow(text) for text in texts]"
   ]
  },
  {
   "cell_type": "code",
   "execution_count": 261,
   "id": "5f3dc702-e659-4e25-9df5-de4bd47d16f6",
   "metadata": {},
   "outputs": [],
   "source": [
    "number_topics = 5\n",
    "lda_model = create_lda_model(id_dict, corpus, number_topics)"
   ]
  },
  {
   "cell_type": "code",
   "execution_count": 262,
   "id": "c6e035a2-82a5-4319-9468-9556a7b2fd95",
   "metadata": {},
   "outputs": [
    {
     "name": "stdout",
     "output_type": "stream",
     "text": [
      "[(0,\n",
      "  '0.059*\"the\" + 0.020*\"and\" + 0.020*\"in\" + 0.019*\"of\" + 0.018*\"film\" + '\n",
      "  '0.015*\"for\" + 0.012*\"best\" + 0.009*\"was\" + 0.009*\"at\" + 0.007*\"awards\"'),\n",
      " (1,\n",
      "  '0.070*\"the\" + 0.036*\"to\" + 0.028*\"of\" + 0.022*\"and\" + 0.017*\"in\" + '\n",
      "  '0.013*\"said\" + 0.012*\"that\" + 0.010*\"for\" + 0.010*\"is\" + 0.010*\"on\"'),\n",
      " (2,\n",
      "  '0.056*\"the\" + 0.033*\"to\" + 0.029*\"of\" + 0.025*\"and\" + 0.017*\"in\" + '\n",
      "  '0.014*\"that\" + 0.013*\"is\" + 0.012*\"it\" + 0.010*\"are\" + 0.010*\"for\"'),\n",
      " (3,\n",
      "  '0.059*\"the\" + 0.030*\"to\" + 0.024*\"in\" + 0.023*\"and\" + 0.017*\"of\" + '\n",
      "  '0.013*\"he\" + 0.011*\"it\" + 0.011*\"for\" + 0.010*\"on\" + 0.010*\"is\"'),\n",
      " (4,\n",
      "  '0.061*\"the\" + 0.038*\"in\" + 0.025*\"of\" + 0.022*\"to\" + 0.015*\"and\" + '\n",
      "  '0.011*\"its\" + 0.011*\"bn\" + 0.010*\"said\" + 0.010*\"at\" + 0.009*\"us\"')]\n"
     ]
    }
   ],
   "source": [
    "pprint(lda_model.print_topics())"
   ]
  },
  {
   "cell_type": "code",
   "execution_count": 263,
   "id": "3b839b67-bfe8-4f0b-8b7f-5adaaeb2c7f2",
   "metadata": {},
   "outputs": [],
   "source": [
    "new_example = \"\"\"Manchester United players slumped to the turf at full-time in Germany on Tuesday in acknowledgement of what their latest pedestrian first-half display had cost them. The 3-2 loss at RB Leipzig means United will not be one of the 16 teams in the draw for the knockout stages of the Champions League. And this is not the only price for failure. The damage will be felt in the accounts, in the dealings they have with current and potentially future players and in the faith the fans have placed in manager Ole Gunnar Solskjaer. With Paul Pogba's agent angling for a move for his client and ex-United defender Phil Neville speaking of a \"witchhunt\" against his former team-mate Solskjaer, BBC Sport looks at the ramifications and reaction to a big loss for United.\"\"\""
   ]
  },
  {
   "cell_type": "code",
   "execution_count": 270,
   "id": "2b1a7859-2f8d-46ac-b0fc-a09e6ff7e57d",
   "metadata": {},
   "outputs": [
    {
     "name": "stdout",
     "output_type": "stream",
     "text": [
      "LDA model saved: True\n",
      "Dictionary saved: True\n",
      "Corpus saved: True\n"
     ]
    }
   ],
   "source": [
    "def save_model(lda, lda_path, id_dict, dict_path):\n",
    "    lda.save(lda_path)\n",
    "    id_dict.save(dict_path)\n",
    "\n",
    "corpus = [id_dict.doc2bow(text) for text in texts]\n",
    "id_dict = corpora.Dictionary(texts)\n",
    "lda_model = create_lda_model(id_dict, corpus, number_topics)\n",
    "lda_path = \"/Users/dariamartinovskaya/Downloads/PLN/Chapter06/lda_gensim.model\"\n",
    "dict_path = \"/Users/dariamartinovskaya/Downloads/PLN/Chapter06/id2word.dict\"\n",
    "corpus_path = \"/Users/dariamartinovskaya/Downloads/PLN/Chapter06/corpus.mm\"\n",
    "print(f\"LDA model saved: {os.path.exists(lda_path)}\")\n",
    "print(f\"Dictionary saved: {os.path.exists(dict_path)}\")\n",
    "print(f\"Corpus saved: {os.path.exists(corpus_path)}\")"
   ]
  },
  {
   "cell_type": "code",
   "execution_count": 265,
   "id": "d6071204-b611-4605-8b2e-e1c4324282e2",
   "metadata": {},
   "outputs": [],
   "source": [
    "def load_model(lda_path, dict_path):\n",
    "    lda = LdaModel.load(lda_path)\n",
    "    id_dict = corpora.Dictionary.load(dict_path)\n",
    "    return (lda, id_dict)"
   ]
  },
  {
   "cell_type": "code",
   "execution_count": 266,
   "id": "7aed6a41-8067-4539-9397-5a6a2d075363",
   "metadata": {},
   "outputs": [],
   "source": [
    "def test_new_example(lda, id_dict, input_string):\n",
    "    input_list = clean_text(input_string)\n",
    "    bow = id_dict.doc2bow(input_list)\n",
    "    topics = lda[bow]\n",
    "    print(topics)\n",
    "    return topics"
   ]
  },
  {
   "cell_type": "code",
   "execution_count": 267,
   "id": "c0ecaade-7276-45fd-a58d-a62f7aca1156",
   "metadata": {},
   "outputs": [
    {
     "name": "stderr",
     "output_type": "stream",
     "text": [
      "[nltk_data] Downloading package punkt to\n",
      "[nltk_data]     /Users/dariamartinovskaya/nltk_data...\n",
      "[nltk_data]   Package punkt is already up-to-date!\n",
      "[nltk_data] Downloading package stopwords to\n",
      "[nltk_data]     /Users/dariamartinovskaya/nltk_data...\n",
      "[nltk_data]   Package stopwords is already up-to-date!\n"
     ]
    }
   ],
   "source": [
    "from nltk.tokenize import word_tokenize\n",
    "from nltk.corpus import stopwords\n",
    "\n",
    "import nltk\n",
    "nltk.download('punkt')\n",
    "nltk.download('stopwords')\n",
    "\n",
    "def clean_text(input_string):\n",
    "    input_string = input_string.lower()\n",
    "    \n",
    "    input_string = re.sub(r'[^\\w\\s]', '', input_string)\n",
    "    \n",
    "    tokens = word_tokenize(input_string)\n",
    "    \n",
    "    stop_words = set(stopwords.words('english'))\n",
    "    cleaned_tokens = [word for word in tokens if word not in stop_words]\n",
    "    \n",
    "    return cleaned_tokens"
   ]
  },
  {
   "cell_type": "code",
   "execution_count": 268,
   "id": "10486fc5-c59f-4fe1-990f-bc71fc80a928",
   "metadata": {},
   "outputs": [],
   "source": [
    "lda_model.save(lda_path)  \n",
    "id_dict.save(dict_path)   \n",
    "corpora.MmCorpus.serialize(corpus_path, corpus)  "
   ]
  },
  {
   "cell_type": "code",
   "execution_count": 269,
   "id": "f956f638-3dd6-4308-97ec-1aa4462c5bbc",
   "metadata": {},
   "outputs": [
    {
     "name": "stdout",
     "output_type": "stream",
     "text": [
      "[(1, 0.17702451), (3, 0.7484408), (4, 0.06738019)]\n"
     ]
    },
    {
     "data": {
      "text/plain": [
       "[(1, 0.17702451), (3, 0.7484408), (4, 0.06738019)]"
      ]
     },
     "execution_count": 269,
     "metadata": {},
     "output_type": "execute_result"
    }
   ],
   "source": [
    "test_new_example(lda_model, id_dict, new_example)"
   ]
  },
  {
   "cell_type": "code",
   "execution_count": 216,
   "id": "3d617401-c517-45f5-a583-41698e34dfa7",
   "metadata": {},
   "outputs": [],
   "source": [
    "#NMF topic modeling\n",
    "import re\n",
    "import pandas as pd\n",
    "from gensim.models.nmf import Nmf\n",
    "from gensim.models import CoherenceModel\n",
    "import gensim.corpora as corpora\n",
    "from gensim.utils import simple_preprocess\n",
    "import matplotlib.pyplot as plt\n",
    "from pprint import pprint\n",
    "from Chapter06.lda_topic_sklearn import stopwords, bbc_dataset, new_example\n",
    "from Chapter06.lda_topic_gensim import preprocess, test_new_example"
   ]
  },
  {
   "cell_type": "code",
   "execution_count": 218,
   "id": "71e3c19e-3cee-4d37-bf75-cf030706c1bb",
   "metadata": {},
   "outputs": [],
   "source": [
    "def create_nmf_model(id_dict, corpus, num_topics):\n",
    "    nmf_model = Nmf(corpus=corpus, id2word=id_dict, num_topics=num_topics, random_state=100, chunksize=100, passes=50)\n",
    "    return nmf_model"
   ]
  },
  {
   "cell_type": "code",
   "execution_count": 220,
   "id": "00a955e5-8522-4d33-a0e2-b28adf003054",
   "metadata": {},
   "outputs": [],
   "source": [
    "def plot_coherence(id_dict, corpus, texts):\n",
    "    num_topics_range = range(2, 10)\n",
    "    coherences = []\n",
    "    for num_topics in num_topics_range:\n",
    "        nmf_model = create_nmf_model(id_dict, corpus, num_topics)\n",
    "        coherence_model_nmf = \\\n",
    "        CoherenceModel(model=nmf_model, texts=texts, dictionary=id_dict, coherence='c_v')\n",
    "        coherences.append(coherence_model_nmf.get_coherence())\n",
    "    plt.plot(num_topics_range, coherences, color='blue', marker='o', markersize=5)\n",
    "    plt.title('Coherence as a function of number of \\\\ topics')\n",
    "    plt.xlabel('Number of topics')\n",
    "    plt.ylabel('Coherence')\n",
    "    plt.grid()\n",
    "    plt.show()"
   ]
  },
  {
   "cell_type": "code",
   "execution_count": 222,
   "id": "5cd64c98-5853-427c-b0b4-dc109185ac72",
   "metadata": {},
   "outputs": [],
   "source": [
    "df = pd.read_csv(bbc_dataset)\n",
    "df = preprocess(df)"
   ]
  },
  {
   "cell_type": "code",
   "execution_count": 224,
   "id": "9062253f-20e2-4039-a5b3-4f7962aa7ea6",
   "metadata": {},
   "outputs": [],
   "source": [
    "texts = df['text'].values\n",
    "id_dict = corpora.Dictionary(texts)\n",
    "corpus = [id_dict.doc2bow(text) for text in texts]"
   ]
  },
  {
   "cell_type": "code",
   "execution_count": 226,
   "id": "2a7e747f-cdaa-442c-905d-71a514233fc7",
   "metadata": {},
   "outputs": [],
   "source": [
    "number_topics = 5\n",
    "nmf_model = create_nmf_model(id_dict, corpus, number_topics)"
   ]
  },
  {
   "cell_type": "code",
   "execution_count": 227,
   "id": "e25a2ecf-fefd-483d-b11a-08d16e1a8d2e",
   "metadata": {},
   "outputs": [
    {
     "name": "stdout",
     "output_type": "stream",
     "text": [
      "[(0,\n",
      "  '0.017*\"people\" + 0.013*\"music\" + 0.008*\"mobile\" + 0.006*\"technology\" + '\n",
      "  '0.005*\"digital\" + 0.005*\"phone\" + 0.005*\"tv\" + 0.005*\"use\" + 0.004*\"users\" '\n",
      "  '+ 0.004*\"net\"'),\n",
      " (1,\n",
      "  '0.017*\"labour\" + 0.014*\"party\" + 0.013*\"election\" + 0.012*\"blair\" + '\n",
      "  '0.009*\"brown\" + 0.008*\"government\" + 0.008*\"people\" + 0.007*\"minister\" + '\n",
      "  '0.006*\"howard\" + 0.006*\"tax\"'),\n",
      " (2,\n",
      "  '0.009*\"government\" + 0.008*\"bn\" + 0.007*\"new\" + 0.007*\"year\" + '\n",
      "  '0.004*\"company\" + 0.003*\"uk\" + 0.003*\"last\" + 0.003*\"state\" + 0.003*\"yukos\" '\n",
      "  '+ 0.003*\"market\"'),\n",
      " (3,\n",
      "  '0.029*\"best\" + 0.016*\"song\" + 0.012*\"film\" + 0.011*\"years\" + 0.009*\"music\" '\n",
      "  '+ 0.009*\"last\" + 0.009*\"awards\" + 0.008*\"year\" + 0.008*\"won\" + '\n",
      "  '0.008*\"angels\"'),\n",
      " (4,\n",
      "  '0.012*\"game\" + 0.008*\"first\" + 0.007*\"time\" + 0.007*\"games\" + '\n",
      "  '0.006*\"england\" + 0.006*\"new\" + 0.006*\"world\" + 0.005*\"wales\" + '\n",
      "  '0.005*\"play\" + 0.004*\"back\"')]\n"
     ]
    }
   ],
   "source": [
    "pprint(nmf_model.print_topics())"
   ]
  },
  {
   "cell_type": "code",
   "execution_count": 232,
   "id": "1c04c1d1-9447-4a77-9210-587f1b17e19d",
   "metadata": {},
   "outputs": [
    {
     "data": {
      "image/png": "[encoded data removed]",
      "text/plain": [
       "<Figure size 640x480 with 1 Axes>"
      ]
     },
     "metadata": {},
     "output_type": "display_data"
    }
   ],
   "source": [
    "plot_coherence(id_dict, corpus, texts)"
   ]
  },
  {
   "cell_type": "code",
   "execution_count": 234,
   "id": "22af31f9-46f6-4315-bb83-7e077a072fa6",
   "metadata": {},
   "outputs": [
    {
     "name": "stdout",
     "output_type": "stream",
     "text": [
      "[(2, 0.09938121851363546), (4, 0.9006187814863645)]\n"
     ]
    }
   ],
   "source": [
    "test_new_example(nmf_model, id_dict, new_example)"
   ]
  },
  {
   "cell_type": "code",
   "execution_count": 239,
   "id": "66198780-74fd-43f9-b6c7-97bef7c05845",
   "metadata": {},
   "outputs": [],
   "source": [
    "#K-means topic modeling with BERT\n",
    "import re\n",
    "import string\n",
    "import pandas as pd\n",
    "from sklearn.cluster import KMeans\n",
    "from nltk.probability import FreqDist\n",
    "from Chapter01.tokenization import tokenize_nltk\n",
    "from Chapter04.preprocess_bbc_dataset import get_data\n",
    "from Chapter04.keyword_classification import divide_data\n",
    "from Chapter04.preprocess_bbc_dataset import get_stopwords\n",
    "from Chapter04.unsupervised_text_classification import get_most_frequent_words, print_most_common_words_by_cluster\n",
    "from Chapter06.lda_topic_sklearn import stopwords, bbc_dataset, new_example\n",
    "from Chapter06.lda_topic_gensim import preprocess\n",
    "from sentence_transformers import SentenceTransformer"
   ]
  },
  {
   "cell_type": "code",
   "execution_count": 240,
   "id": "0e378791-6f06-4081-8032-250b809d03ff",
   "metadata": {},
   "outputs": [],
   "source": [
    "bbc_dataset = \"/Users/dariamartinovskaya/Downloads/PLN/Chapter04/bbc-text.csv\"\n",
    "stopwords_file_path = \"/Users/dariamartinovskaya/Downloads/PLN/Chapter01/stopwords.csv\"\n",
    "stopwords = get_stopwords(stopwords_file_path)"
   ]
  },
  {
   "cell_type": "code",
   "execution_count": 241,
   "id": "dea499de-b8c6-409d-9d65-5c9f98fde852",
   "metadata": {},
   "outputs": [],
   "source": [
    "def test_new_example(km, model, example):\n",
    "    embedded = model.encode([example])\n",
    "    topic = km.predict(embedded)[0]\n",
    "    print(topic)\n",
    "    return topic"
   ]
  },
  {
   "cell_type": "code",
   "execution_count": 242,
   "id": "94860274-1583-4eb3-a6a6-e72e264a1af2",
   "metadata": {},
   "outputs": [],
   "source": [
    "df = pd.read_csv(bbc_dataset)\n",
    "df = preprocess(df)\n",
    "df['text'] = df['text'].apply(lambda x: \" \".join(x))\n",
    "documents = df['text'].values"
   ]
  },
  {
   "cell_type": "code",
   "execution_count": 246,
   "id": "e683b018-80ec-4a93-becf-fb223d12e8e2",
   "metadata": {},
   "outputs": [],
   "source": [
    "model = SentenceTransformer('distilbert-base-nli-mean-tokens')\n",
    "encoded_data = model.encode(documents)"
   ]
  },
  {
   "cell_type": "code",
   "execution_count": 244,
   "id": "98133c64-bb91-46f6-bf8c-15cacc3c2249",
   "metadata": {},
   "outputs": [
    {
     "name": "stderr",
     "output_type": "stream",
     "text": [
      "huggingface/tokenizers: The current process just got forked, after parallelism has already been used. Disabling parallelism to avoid deadlocks...\n",
      "To disable this warning, you can either:\n",
      "\t- Avoid using `tokenizers` before the fork if possible\n",
      "\t- Explicitly set the environment variable TOKENIZERS_PARALLELISM=(true | false)\n"
     ]
    },
    {
     "data": {
      "text/html": [
       "<style>#sk-container-id-1 {\n",
       "  /* Definition of color scheme common for light and dark mode */\n",
       "  --sklearn-color-text: #000;\n",
       "  --sklearn-color-text-muted: #666;\n",
       "  --sklearn-color-line: gray;\n",
       "  /* Definition of color scheme for unfitted estimators */\n",
       "  --sklearn-color-unfitted-level-0: #fff5e6;\n",
       "  --sklearn-color-unfitted-level-1: #f6e4d2;\n",
       "  --sklearn-color-unfitted-level-2: #ffe0b3;\n",
       "  --sklearn-color-unfitted-level-3: chocolate;\n",
       "  /* Definition of color scheme for fitted estimators */\n",
       "  --sklearn-color-fitted-level-0: #f0f8ff;\n",
       "  --sklearn-color-fitted-level-1: #d4ebff;\n",
       "  --sklearn-color-fitted-level-2: #b3dbfd;\n",
       "  --sklearn-color-fitted-level-3: cornflowerblue;\n",
       "\n",
       "  /* Specific color for light theme */\n",
       "  --sklearn-color-text-on-default-background: var(--sg-text-color, var(--theme-code-foreground, var(--jp-content-font-color1, black)));\n",
       "  --sklearn-color-background: var(--sg-background-color, var(--theme-background, var(--jp-layout-color0, white)));\n",
       "  --sklearn-color-border-box: var(--sg-text-color, var(--theme-code-foreground, var(--jp-content-font-color1, black)));\n",
       "  --sklearn-color-icon: #696969;\n",
       "\n",
       "  @media (prefers-color-scheme: dark) {\n",
       "    /* Redefinition of color scheme for dark theme */\n",
       "    --sklearn-color-text-on-default-background: var(--sg-text-color, var(--theme-code-foreground, var(--jp-content-font-color1, white)));\n",
       "    --sklearn-color-background: var(--sg-background-color, var(--theme-background, var(--jp-layout-color0, #111)));\n",
       "    --sklearn-color-border-box: var(--sg-text-color, var(--theme-code-foreground, var(--jp-content-font-color1, white)));\n",
       "    --sklearn-color-icon: #878787;\n",
       "  }\n",
       "}\n",
       "\n",
       "#sk-container-id-1 {\n",
       "  color: var(--sklearn-color-text);\n",
       "}\n",
       "\n",
       "#sk-container-id-1 pre {\n",
       "  padding: 0;\n",
       "}\n",
       "\n",
       "#sk-container-id-1 input.sk-hidden--visually {\n",
       "  border: 0;\n",
       "  clip: rect(1px 1px 1px 1px);\n",
       "  clip: rect(1px, 1px, 1px, 1px);\n",
       "  height: 1px;\n",
       "  margin: -1px;\n",
       "  overflow: hidden;\n",
       "  padding: 0;\n",
       "  position: absolute;\n",
       "  width: 1px;\n",
       "}\n",
       "\n",
       "#sk-container-id-1 div.sk-dashed-wrapped {\n",
       "  border: 1px dashed var(--sklearn-color-line);\n",
       "  margin: 0 0.4em 0.5em 0.4em;\n",
       "  box-sizing: border-box;\n",
       "  padding-bottom: 0.4em;\n",
       "  background-color: var(--sklearn-color-background);\n",
       "}\n",
       "\n",
       "#sk-container-id-1 div.sk-container {\n",
       "  /* jupyter's `normalize.less` sets `[hidden] { display: none; }`\n",
       "     but bootstrap.min.css set `[hidden] { display: none !important; }`\n",
       "     so we also need the `!important` here to be able to override the\n",
       "     default hidden behavior on the sphinx rendered scikit-learn.org.\n",
       "     See: https://github.com/scikit-learn/scikit-learn/issues/21755 */\n",
       "  display: inline-block !important;\n",
       "  position: relative;\n",
       "}\n",
       "\n",
       "#sk-container-id-1 div.sk-text-repr-fallback {\n",
       "  display: none;\n",
       "}\n",
       "\n",
       "div.sk-parallel-item,\n",
       "div.sk-serial,\n",
       "div.sk-item {\n",
       "  /* draw centered vertical line to link estimators */\n",
       "  background-image: linear-gradient(var(--sklearn-color-text-on-default-background), var(--sklearn-color-text-on-default-background));\n",
       "  background-size: 2px 100%;\n",
       "  background-repeat: no-repeat;\n",
       "  background-position: center center;\n",
       "}\n",
       "\n",
       "/* Parallel-specific style estimator block */\n",
       "\n",
       "#sk-container-id-1 div.sk-parallel-item::after {\n",
       "  content: \"\";\n",
       "  width: 100%;\n",
       "  border-bottom: 2px solid var(--sklearn-color-text-on-default-background);\n",
       "  flex-grow: 1;\n",
       "}\n",
       "\n",
       "#sk-container-id-1 div.sk-parallel {\n",
       "  display: flex;\n",
       "  align-items: stretch;\n",
       "  justify-content: center;\n",
       "  background-color: var(--sklearn-color-background);\n",
       "  position: relative;\n",
       "}\n",
       "\n",
       "#sk-container-id-1 div.sk-parallel-item {\n",
       "  display: flex;\n",
       "  flex-direction: column;\n",
       "}\n",
       "\n",
       "#sk-container-id-1 div.sk-parallel-item:first-child::after {\n",
       "  align-self: flex-end;\n",
       "  width: 50%;\n",
       "}\n",
       "\n",
       "#sk-container-id-1 div.sk-parallel-item:last-child::after {\n",
       "  align-self: flex-start;\n",
       "  width: 50%;\n",
       "}\n",
       "\n",
       "#sk-container-id-1 div.sk-parallel-item:only-child::after {\n",
       "  width: 0;\n",
       "}\n",
       "\n",
       "/* Serial-specific style estimator block */\n",
       "\n",
       "#sk-container-id-1 div.sk-serial {\n",
       "  display: flex;\n",
       "  flex-direction: column;\n",
       "  align-items: center;\n",
       "  background-color: var(--sklearn-color-background);\n",
       "  padding-right: 1em;\n",
       "  padding-left: 1em;\n",
       "}\n",
       "\n",
       "\n",
       "/* Toggleable style: style used for estimator/Pipeline/ColumnTransformer box that is\n",
       "clickable and can be expanded/collapsed.\n",
       "- Pipeline and ColumnTransformer use this feature and define the default style\n",
       "- Estimators will overwrite some part of the style using the `sk-estimator` class\n",
       "*/\n",
       "\n",
       "/* Pipeline and ColumnTransformer style (default) */\n",
       "\n",
       "#sk-container-id-1 div.sk-toggleable {\n",
       "  /* Default theme specific background. It is overwritten whether we have a\n",
       "  specific estimator or a Pipeline/ColumnTransformer */\n",
       "  background-color: var(--sklearn-color-background);\n",
       "}\n",
       "\n",
       "/* Toggleable label */\n",
       "#sk-container-id-1 label.sk-toggleable__label {\n",
       "  cursor: pointer;\n",
       "  display: flex;\n",
       "  width: 100%;\n",
       "  margin-bottom: 0;\n",
       "  padding: 0.5em;\n",
       "  box-sizing: border-box;\n",
       "  text-align: center;\n",
       "  align-items: start;\n",
       "  justify-content: space-between;\n",
       "  gap: 0.5em;\n",
       "}\n",
       "\n",
       "#sk-container-id-1 label.sk-toggleable__label .caption {\n",
       "  font-size: 0.6rem;\n",
       "  font-weight: lighter;\n",
       "  color: var(--sklearn-color-text-muted);\n",
       "}\n",
       "\n",
       "#sk-container-id-1 label.sk-toggleable__label-arrow:before {\n",
       "  /* Arrow on the left of the label */\n",
       "  content: \"▸\";\n",
       "  float: left;\n",
       "  margin-right: 0.25em;\n",
       "  color: var(--sklearn-color-icon);\n",
       "}\n",
       "\n",
       "#sk-container-id-1 label.sk-toggleable__label-arrow:hover:before {\n",
       "  color: var(--sklearn-color-text);\n",
       "}\n",
       "\n",
       "/* Toggleable content - dropdown */\n",
       "\n",
       "#sk-container-id-1 div.sk-toggleable__content {\n",
       "  max-height: 0;\n",
       "  max-width: 0;\n",
       "  overflow: hidden;\n",
       "  text-align: left;\n",
       "  /* unfitted */\n",
       "  background-color: var(--sklearn-color-unfitted-level-0);\n",
       "}\n",
       "\n",
       "#sk-container-id-1 div.sk-toggleable__content.fitted {\n",
       "  /* fitted */\n",
       "  background-color: var(--sklearn-color-fitted-level-0);\n",
       "}\n",
       "\n",
       "#sk-container-id-1 div.sk-toggleable__content pre {\n",
       "  margin: 0.2em;\n",
       "  border-radius: 0.25em;\n",
       "  color: var(--sklearn-color-text);\n",
       "  /* unfitted */\n",
       "  background-color: var(--sklearn-color-unfitted-level-0);\n",
       "}\n",
       "\n",
       "#sk-container-id-1 div.sk-toggleable__content.fitted pre {\n",
       "  /* unfitted */\n",
       "  background-color: var(--sklearn-color-fitted-level-0);\n",
       "}\n",
       "\n",
       "#sk-container-id-1 input.sk-toggleable__control:checked~div.sk-toggleable__content {\n",
       "  /* Expand drop-down */\n",
       "  max-height: 200px;\n",
       "  max-width: 100%;\n",
       "  overflow: auto;\n",
       "}\n",
       "\n",
       "#sk-container-id-1 input.sk-toggleable__control:checked~label.sk-toggleable__label-arrow:before {\n",
       "  content: \"▾\";\n",
       "}\n",
       "\n",
       "/* Pipeline/ColumnTransformer-specific style */\n",
       "\n",
       "#sk-container-id-1 div.sk-label input.sk-toggleable__control:checked~label.sk-toggleable__label {\n",
       "  color: var(--sklearn-color-text);\n",
       "  background-color: var(--sklearn-color-unfitted-level-2);\n",
       "}\n",
       "\n",
       "#sk-container-id-1 div.sk-label.fitted input.sk-toggleable__control:checked~label.sk-toggleable__label {\n",
       "  background-color: var(--sklearn-color-fitted-level-2);\n",
       "}\n",
       "\n",
       "/* Estimator-specific style */\n",
       "\n",
       "/* Colorize estimator box */\n",
       "#sk-container-id-1 div.sk-estimator input.sk-toggleable__control:checked~label.sk-toggleable__label {\n",
       "  /* unfitted */\n",
       "  background-color: var(--sklearn-color-unfitted-level-2);\n",
       "}\n",
       "\n",
       "#sk-container-id-1 div.sk-estimator.fitted input.sk-toggleable__control:checked~label.sk-toggleable__label {\n",
       "  /* fitted */\n",
       "  background-color: var(--sklearn-color-fitted-level-2);\n",
       "}\n",
       "\n",
       "#sk-container-id-1 div.sk-label label.sk-toggleable__label,\n",
       "#sk-container-id-1 div.sk-label label {\n",
       "  /* The background is the default theme color */\n",
       "  color: var(--sklearn-color-text-on-default-background);\n",
       "}\n",
       "\n",
       "/* On hover, darken the color of the background */\n",
       "#sk-container-id-1 div.sk-label:hover label.sk-toggleable__label {\n",
       "  color: var(--sklearn-color-text);\n",
       "  background-color: var(--sklearn-color-unfitted-level-2);\n",
       "}\n",
       "\n",
       "/* Label box, darken color on hover, fitted */\n",
       "#sk-container-id-1 div.sk-label.fitted:hover label.sk-toggleable__label.fitted {\n",
       "  color: var(--sklearn-color-text);\n",
       "  background-color: var(--sklearn-color-fitted-level-2);\n",
       "}\n",
       "\n",
       "/* Estimator label */\n",
       "\n",
       "#sk-container-id-1 div.sk-label label {\n",
       "  font-family: monospace;\n",
       "  font-weight: bold;\n",
       "  display: inline-block;\n",
       "  line-height: 1.2em;\n",
       "}\n",
       "\n",
       "#sk-container-id-1 div.sk-label-container {\n",
       "  text-align: center;\n",
       "}\n",
       "\n",
       "/* Estimator-specific */\n",
       "#sk-container-id-1 div.sk-estimator {\n",
       "  font-family: monospace;\n",
       "  border: 1px dotted var(--sklearn-color-border-box);\n",
       "  border-radius: 0.25em;\n",
       "  box-sizing: border-box;\n",
       "  margin-bottom: 0.5em;\n",
       "  /* unfitted */\n",
       "  background-color: var(--sklearn-color-unfitted-level-0);\n",
       "}\n",
       "\n",
       "#sk-container-id-1 div.sk-estimator.fitted {\n",
       "  /* fitted */\n",
       "  background-color: var(--sklearn-color-fitted-level-0);\n",
       "}\n",
       "\n",
       "/* on hover */\n",
       "#sk-container-id-1 div.sk-estimator:hover {\n",
       "  /* unfitted */\n",
       "  background-color: var(--sklearn-color-unfitted-level-2);\n",
       "}\n",
       "\n",
       "#sk-container-id-1 div.sk-estimator.fitted:hover {\n",
       "  /* fitted */\n",
       "  background-color: var(--sklearn-color-fitted-level-2);\n",
       "}\n",
       "\n",
       "/* Specification for estimator info (e.g. \"i\" and \"?\") */\n",
       "\n",
       "/* Common style for \"i\" and \"?\" */\n",
       "\n",
       ".sk-estimator-doc-link,\n",
       "a:link.sk-estimator-doc-link,\n",
       "a:visited.sk-estimator-doc-link {\n",
       "  float: right;\n",
       "  font-size: smaller;\n",
       "  line-height: 1em;\n",
       "  font-family: monospace;\n",
       "  background-color: var(--sklearn-color-background);\n",
       "  border-radius: 1em;\n",
       "  height: 1em;\n",
       "  width: 1em;\n",
       "  text-decoration: none !important;\n",
       "  margin-left: 0.5em;\n",
       "  text-align: center;\n",
       "  /* unfitted */\n",
       "  border: var(--sklearn-color-unfitted-level-1) 1pt solid;\n",
       "  color: var(--sklearn-color-unfitted-level-1);\n",
       "}\n",
       "\n",
       ".sk-estimator-doc-link.fitted,\n",
       "a:link.sk-estimator-doc-link.fitted,\n",
       "a:visited.sk-estimator-doc-link.fitted {\n",
       "  /* fitted */\n",
       "  border: var(--sklearn-color-fitted-level-1) 1pt solid;\n",
       "  color: var(--sklearn-color-fitted-level-1);\n",
       "}\n",
       "\n",
       "/* On hover */\n",
       "div.sk-estimator:hover .sk-estimator-doc-link:hover,\n",
       ".sk-estimator-doc-link:hover,\n",
       "div.sk-label-container:hover .sk-estimator-doc-link:hover,\n",
       ".sk-estimator-doc-link:hover {\n",
       "  /* unfitted */\n",
       "  background-color: var(--sklearn-color-unfitted-level-3);\n",
       "  color: var(--sklearn-color-background);\n",
       "  text-decoration: none;\n",
       "}\n",
       "\n",
       "div.sk-estimator.fitted:hover .sk-estimator-doc-link.fitted:hover,\n",
       ".sk-estimator-doc-link.fitted:hover,\n",
       "div.sk-label-container:hover .sk-estimator-doc-link.fitted:hover,\n",
       ".sk-estimator-doc-link.fitted:hover {\n",
       "  /* fitted */\n",
       "  background-color: var(--sklearn-color-fitted-level-3);\n",
       "  color: var(--sklearn-color-background);\n",
       "  text-decoration: none;\n",
       "}\n",
       "\n",
       "/* Span, style for the box shown on hovering the info icon */\n",
       ".sk-estimator-doc-link span {\n",
       "  display: none;\n",
       "  z-index: 9999;\n",
       "  position: relative;\n",
       "  font-weight: normal;\n",
       "  right: .2ex;\n",
       "  padding: .5ex;\n",
       "  margin: .5ex;\n",
       "  width: min-content;\n",
       "  min-width: 20ex;\n",
       "  max-width: 50ex;\n",
       "  color: var(--sklearn-color-text);\n",
       "  box-shadow: 2pt 2pt 4pt #999;\n",
       "  /* unfitted */\n",
       "  background: var(--sklearn-color-unfitted-level-0);\n",
       "  border: .5pt solid var(--sklearn-color-unfitted-level-3);\n",
       "}\n",
       "\n",
       ".sk-estimator-doc-link.fitted span {\n",
       "  /* fitted */\n",
       "  background: var(--sklearn-color-fitted-level-0);\n",
       "  border: var(--sklearn-color-fitted-level-3);\n",
       "}\n",
       "\n",
       ".sk-estimator-doc-link:hover span {\n",
       "  display: block;\n",
       "}\n",
       "\n",
       "/* \"?\"-specific style due to the `<a>` HTML tag */\n",
       "\n",
       "#sk-container-id-1 a.estimator_doc_link {\n",
       "  float: right;\n",
       "  font-size: 1rem;\n",
       "  line-height: 1em;\n",
       "  font-family: monospace;\n",
       "  background-color: var(--sklearn-color-background);\n",
       "  border-radius: 1rem;\n",
       "  height: 1rem;\n",
       "  width: 1rem;\n",
       "  text-decoration: none;\n",
       "  /* unfitted */\n",
       "  color: var(--sklearn-color-unfitted-level-1);\n",
       "  border: var(--sklearn-color-unfitted-level-1) 1pt solid;\n",
       "}\n",
       "\n",
       "#sk-container-id-1 a.estimator_doc_link.fitted {\n",
       "  /* fitted */\n",
       "  border: var(--sklearn-color-fitted-level-1) 1pt solid;\n",
       "  color: var(--sklearn-color-fitted-level-1);\n",
       "}\n",
       "\n",
       "/* On hover */\n",
       "#sk-container-id-1 a.estimator_doc_link:hover {\n",
       "  /* unfitted */\n",
       "  background-color: var(--sklearn-color-unfitted-level-3);\n",
       "  color: var(--sklearn-color-background);\n",
       "  text-decoration: none;\n",
       "}\n",
       "\n",
       "#sk-container-id-1 a.estimator_doc_link.fitted:hover {\n",
       "  /* fitted */\n",
       "  background-color: var(--sklearn-color-fitted-level-3);\n",
       "}\n",
       "</style><div id=\"sk-container-id-1\" class=\"sk-top-container\"><div class=\"sk-text-repr-fallback\"><pre>KMeans(n_clusters=5, random_state=0)</pre><b>In a Jupyter environment, please rerun this cell to show the HTML representation or trust the notebook. <br />On GitHub, the HTML representation is unable to render, please try loading this page with nbviewer.org.</b></div><div class=\"sk-container\" hidden><div class=\"sk-item\"><div class=\"sk-estimator fitted sk-toggleable\"><input class=\"sk-toggleable__control sk-hidden--visually\" id=\"sk-estimator-id-1\" type=\"checkbox\" checked><label for=\"sk-estimator-id-1\" class=\"sk-toggleable__label fitted sk-toggleable__label-arrow\"><div><div>KMeans</div></div><div><a class=\"sk-estimator-doc-link fitted\" rel=\"noreferrer\" target=\"_blank\" href=\"https://scikit-learn.org/1.6/modules/generated/sklearn.cluster.KMeans.html\">?<span>Documentation for KMeans</span></a><span class=\"sk-estimator-doc-link fitted\">i<span>Fitted</span></span></div></label><div class=\"sk-toggleable__content fitted\"><pre>KMeans(n_clusters=5, random_state=0)</pre></div> </div></div></div></div>"
      ],
      "text/plain": [
       "KMeans(n_clusters=5, random_state=0)"
      ]
     },
     "execution_count": 244,
     "metadata": {},
     "output_type": "execute_result"
    }
   ],
   "source": [
    "km = KMeans(n_clusters=5, random_state=0)\n",
    "km.fit(encoded_data)"
   ]
  },
  {
   "cell_type": "code",
   "execution_count": 245,
   "id": "d883f077-ee63-48b1-b9ba-ad64cf547575",
   "metadata": {},
   "outputs": [
    {
     "name": "stdout",
     "output_type": "stream",
     "text": [
      "0\n",
      "['year', 'bn', 'growth', 'economy', 'sales', 'economic', 'market', 'prices', 'government', 'last', 'rise', 'new', 'bank', 'dollar', 'rate', 'uk', 'world', 'figures', 'years', 'quarter', 'expected', 'rates', 'spending', 'profits', 'oil', 'months', 'people', 'december', 'month', 'increase', 'analysts', 'rose', 'strong', 'interest', 'jobs', 'time', 'high', 'tax', 'first', 'three', 'china', 'fall', 'company', 'january', 'budget', 'price', 'business', 'report', 'million', 'next', 'trade', 'demand', 'chief', 'hit', 'higher', 'firm', 'fell', 'costs', 'shares', 'consumer', 'country', 'deficit', 'low', 'cut', 'record', 'recent', 'added', 'biggest', 'cost', 'countries', 'exports', 'europe', 'profit', 'annual', 'set', 'euro', 'debt', 'inflation', 'financial', 'november', 'back', 'markets', 'president', 'south', 'domestic', 'group', 'euros', 'economist', 'level', 'number', 'earlier', 'end', 'data', 'stock', 'european', 'house', 'good', 'india', 'news', 'five', 'minister', 'share', 'continue', 'global', 'rising', 'told', 'net', 'previous', 'money', 'says', 'investment', 'japan', 'work', 'wage', 'increased', 'october', 'week', 'production', 'unemployment', 'manufacturing', 'bush', 'recovery', 'pay', 'average', 'england', 'period', 'retail', 'output', 'sector', 'state', 'reported', 'fourth', 'long', 'job', 'warned', 'executive', 'forecast', 'companies', 'levels', 'part', 'take', 'minimum', 'september', 'get', 'services', 'christmas', 'third', 'trading', 'housing', 'index', 'term', 'half', 'national', 'value', 'london', 'need', 'say', 'investors', 'firms', 'remain', 'industry', 'boost', 'lower', 'help', 'deal', 'aid', 'currency', 'imf', 'poor', 'finance', 'asia', 'largest', 'current', 'policy', 'public', 'general', 'move', 'cuts', 'figure', 'foreign', 'nations', 'labour', 'german', 'remains', 'make', 'impact', 'earnings', 'due', 'credit', 'federal', 'mortgage', 'key', 'slowdown', 'fuel', 'major', 'crude', 'analyst', 'survey', 'performance', 'compared']\n",
      "1\n",
      "['government', 'labour', 'people', 'election', 'new', 'party', 'blair', 'told', 'minister', 'year', 'bn', 'uk', 'public', 'last', 'brown', 'plans', 'say', 'howard', 'bbc', 'tax', 'prime', 'law', 'company', 'says', 'time', 'make', 'country', 'tory', 'secretary', 'britain', 'general', 'years', 'firm', 'court', 'eu', 'home', 'back', 'campaign', 'next', 'chancellor', 'leader', 'get', 'added', 'spokesman', 'lord', 'take', 'european', 'tories', 'part', 'case', 'state', 'chief', 'first', 'news', 'legal', 'bill', 'foreign', 'saying', 'mps', 'work', 'issue', 'world', 'police', 'yukos', 'former', 'week', 'tony', 'british', 'system', 'deal', 'group', 'expected', 'political', 'london', 'report', 'rights', 'set', 'michael', 'companies', 'three', 'use', 'decision', 'countries', 'think', 'money', 'lib', 'office', 'action', 'local', 'ms', 'own', 'claims', 'called', 'liberal', 'president', 'vote', 'market', 'ministers', 'firms', 'parliament', 'business', 'oil', 'iraq', 'council', 'economic', 'support', 'anti', 'pay', 'used', 'statement', 'policy', 'believe', 'parties', 'help', 'asked', 'immigration', 'future', 'committee', 'chairman', 'need', 'services', 'commission', 'meeting', 'change', 'house', 'war', 'number', 'human', 'move', 'conservative', 'service', 'europe', 'bank', 'china', 'national', 'budget', 'based', 'economy', 'come', 'rules', 'executive', 'plan', 'offer', 'health', 'cut', 'trial', 'months', 'give', 'programme', 'voters', 'clear', 'evidence', 'information', 'issues', 'kilroy', 'ukip', 'accused', 'commons', 'kennedy', 'long', 'good', 'act', 'four', 'end', 'current', 'union', 'financial', 'members', 'lords', 'five', 'taxes', 'david', 'claim', 'place', 'blunkett', 'silk', 'monday', 'working', 'held', 'including', 'spending', 'role', 'russian', 'found', 'run', 'bid', 'today', 'denied', 'women', 'warned', 'earlier', 'laws', 'trade', 'international', 'security', 'agreed', 'shares', 'far', 'gordon', 'mp']\n",
      "2\n",
      "['people', 'new', 'technology', 'music', 'mobile', 'year', 'digital', 'users', 'make', 'use', 'uk', 'get', 'games', 'software', 'tv', 'net', 'time', 'phone', 'world', 'market', 'video', 'used', 'online', 'first', 'service', 'million', 'computer', 'broadband', 'internet', 'microsoft', 'services', 'high', 'firm', 'game', 'using', 'says', 'information', 'work', 'number', 'data', 'phones', 'security', 'system', 'firms', 'company', 'industry', 'content', 'take', 'media', 'last', 'set', 'companies', 'years', 'home', 'show', 'based', 'research', 'help', 'web', 'search', 'players', 'news', 'next', 'access', 'own', 'networks', 'part', 'devices', 'network', 'apple', 'virus', 'mail', 'pc', 'bbc', 'end', 'consumers', 'gaming', 'different', 'play', 'need', 'added', 'radio', 'website', 'europe', 'called', 'available', 'good', 'told', 'windows', 'sony', 'customers', 'bt', 'months', 'download', 'offer', 'found', 'control', 'anti', 'future', 'free', 'currently', 'sites', 'consumer', 'become', 'money', 'big', 'group', 'version', 'wireless', 'sales', 'report', 'mobiles', 'find', 'three', 'technologies', 'hard', 'google', 'player', 'systems', 'few', 'life', 'film', 'device', 'look', 'say', 'better', 'power', 'pcs', 'five', 'getting', 'making', 'personal', 'children', 'move', 'think', 'sold', 'programs', 'latest', 'project', 'real', 'business', 'messages', 'top', 'launch', 'back', 'come', 'program', 'bn', 'looking', 'european', 'almost', 'computers', 'know', 'government', 'cost', 'popular', 'working', 'site', 'spam', 'expected', 'entertainment', 'chief', 'released', 'mini', 'websites', 'portable', 'launched', 'plans', 'start', 'machines', 'important', 'dvd', 'far', 'images', 'attacks', 'analysts', 'growing', 'long', 'speed', 'products', 'give', 'buy', 'machine', 'gadget', 'allow', 'sale', 'files', 'ipod', 'dr', 'nintendo', 'week', 'file', 'spyware', 'director', 'demand', 'share', 'problem', 'month', 'drive', 'camera']\n",
      "3\n",
      "['year', 'game', 'film', 'england', 'new', 'time', 'last', 'first', 'club', 'world', 'back', 'three', 'six', 'told', 'added', 'players', 'play', 'years', 'old', 'people', 'team', 'make', 'bbc', 'injury', 'half', 'united', 'show', 'side', 'wales', 'coach', 'get', 'take', 'good', 'france', 'former', 'week', 'win', 'ireland', 'think', 'rugby', 'cup', 'football', 'next', 'manager', 'music', 'nations', 'season', 'games', 'best', 'international', 'match', 'man', 'four', 'chelsea', 'director', 'won', 'robinson', 'home', 'five', 'decision', 'scotland', 'star', 'player', 'played', 'league', 'number', 'final', 'left', 'says', 'set', 'squad', 'tv', 'know', 'come', 'return', 'work', 'sport', 'lost', 'end', 'festival', 'deal', 'boss', 'arsenal', 'saturday', 'uk', 'sunday', 'london', 'real', 'playing', 'john', 'films', 'say', 'following', 'life', 'liverpool', 'great', 'move', 'part', 'fans', 'jones', 'long', 'start', 'came', 'manchester', 'place', 'chance', 'given', 'try', 'action', 'centre', 'including', 'february', 'took', 'singer', 'big', 'group', 'top', 'company', 'drugs', 'williams', 'david', 'line', 'glazer', 'weeks', 'face', 'sale', 'look', 'money', 'month', 'record', 'test', 'bid', 'open', 'newcastle', 'series', 'due', 'premiership', 'ferguson', 'months', 'wednesday', 'minutes', 'smith', 'actor', 'stars', 'andy', 'police', 'failed', 'ball', 'national', 'country', 'goal', 'expected', 'third', 'performance', 'radio', 'british', 'summer', 'career', 'early', 'thought', 'january', 'band', 'give', 'need', 'champions', 'hit', 'japan', 'called', 'board', 'taking', 'executive', 'far', 'awards', 'found', 'tour', 'full', 'chief', 'italy', 'kenteris', 'making', 'captain', 'saying', 'role', 'used', 'taken', 'greek', 'missed', 'news', 'mark', 'own', 'monday', 'french', 'bath', 'received', 'award', 'weekend', 'spokesman', 'iaaf', 'defeat', 'training']\n",
      "4\n",
      "['best', 'year', 'first', 'film', 'last', 'win', 'won', 'time', 'world', 'new', 'top', 'game', 'number', 'years', 'three', 'awards', 'music', 'back', 'set', 'award', 'play', 'good', 'final', 'british', 'great', 'old', 'england', 'get', 'uk', 'games', 'think', 'took', 'next', 'four', 'five', 'record', 'take', 'cup', 'players', 'show', 'half', 'team', 'star', 'winning', 'people', 'match', 'title', 'third', 'ireland', 'bbc', 'side', 'victory', 'open', 'beat', 'week', 'director', 'make', 'band', 'wales', 'album', 'place', 'played', 'actor', 'season', 'champion', 'six', 'come', 'home', 'britain', 'including', 'song', 'williams', 'long', 'france', 'start', 'added', 'minutes', 'prize', 'came', 'race', 'end', 'big', 'actress', 'european', 'international', 'hit', 'roddick', 'playing', 'million', 'olympic', 'tv', 'films', 'career', 'grand', 'chance', 'oscar', 'lead', 'former', 'comedy', 'player', 'success', 'know', 'performance', 'run', 'high', 'ray', 'better', 'break', 'event', 'goal', 'london', 'life', 'man', 'american', 'told', 'part', 'mark', 'nominations', 'series', 'try', 'ahead', 'left', 'rock', 'rugby', 'round', 'list', 'young', 'box', 'sales', 'winner', 'role', 'league', 'saturday', 'ball', 'group', 'sunday', 'office', 'movie', 'times', 'injury', 'chelsea', 'indoor', 'australian', 'coach', 'line', 'love', 'early', 'country', 'united', 'chart', 'seed', 'italy', 'named', 'liverpool', 'club', 'taking', 'lost', 'aviator', 'own', 'fourth', 'tour', 'stars', 'favourite', 'used', 'dvd', 'held', 'singer', 'work', 'real', 'scotland', 'nominated', 'women', 'live', 'championships', 'men', 'ceremony', 'given', 'hollywood', 'hard', 'zealand', 'form', 'winners', 'arsenal', 'jones', 'johnson', 'nations', 'french', 'points', 'musical', 'holmes', 'bit', 'return', 'night', 'eight', 'category', 'become', 'single', 'shot', 'double', 'irish']\n"
     ]
    },
    {
     "data": {
      "text/html": [
       "<div>\n",
       "<style scoped>\n",
       "    .dataframe tbody tr th:only-of-type {\n",
       "        vertical-align: middle;\n",
       "    }\n",
       "\n",
       "    .dataframe tbody tr th {\n",
       "        vertical-align: top;\n",
       "    }\n",
       "\n",
       "    .dataframe thead th {\n",
       "        text-align: right;\n",
       "    }\n",
       "</style>\n",
       "<table border=\"1\" class=\"dataframe\">\n",
       "  <thead>\n",
       "    <tr style=\"text-align: right;\">\n",
       "      <th></th>\n",
       "      <th>text</th>\n",
       "      <th>cluster</th>\n",
       "    </tr>\n",
       "  </thead>\n",
       "  <tbody>\n",
       "    <tr>\n",
       "      <th>2</th>\n",
       "      <td>tv future hands viewers home theatre systems p...</td>\n",
       "      <td>2</td>\n",
       "    </tr>\n",
       "    <tr>\n",
       "      <th>1</th>\n",
       "      <td>worldcom boss left books alone former worldcom...</td>\n",
       "      <td>1</td>\n",
       "    </tr>\n",
       "    <tr>\n",
       "      <th>3</th>\n",
       "      <td>tigers wary farrell gamble leicester say rushe...</td>\n",
       "      <td>3</td>\n",
       "    </tr>\n",
       "    <tr>\n",
       "      <th>4</th>\n",
       "      <td>yeading face newcastle fa cup premiership side...</td>\n",
       "      <td>4</td>\n",
       "    </tr>\n",
       "    <tr>\n",
       "      <th>4</th>\n",
       "      <td>ocean twelve raids box office ocean twelve cri...</td>\n",
       "      <td>4</td>\n",
       "    </tr>\n",
       "    <tr>\n",
       "      <th>...</th>\n",
       "      <td>...</td>\n",
       "      <td>...</td>\n",
       "    </tr>\n",
       "    <tr>\n",
       "      <th>0</th>\n",
       "      <td>cars pull retail figures retail sales fell jan...</td>\n",
       "      <td>0</td>\n",
       "    </tr>\n",
       "    <tr>\n",
       "      <th>1</th>\n",
       "      <td>kilroy unveils immigration policy ex chatshow ...</td>\n",
       "      <td>1</td>\n",
       "    </tr>\n",
       "    <tr>\n",
       "      <th>3</th>\n",
       "      <td>rem announce new glasgow concert band rem anno...</td>\n",
       "      <td>3</td>\n",
       "    </tr>\n",
       "    <tr>\n",
       "      <th>1</th>\n",
       "      <td>political squabbles snowball become commonplac...</td>\n",
       "      <td>1</td>\n",
       "    </tr>\n",
       "    <tr>\n",
       "      <th>4</th>\n",
       "      <td>souness delight euro progress boss graeme soun...</td>\n",
       "      <td>4</td>\n",
       "    </tr>\n",
       "  </tbody>\n",
       "</table>\n",
       "<p>2225 rows × 2 columns</p>\n",
       "</div>"
      ],
      "text/plain": [
       "                                                 text  cluster\n",
       "2   tv future hands viewers home theatre systems p...        2\n",
       "1   worldcom boss left books alone former worldcom...        1\n",
       "3   tigers wary farrell gamble leicester say rushe...        3\n",
       "4   yeading face newcastle fa cup premiership side...        4\n",
       "4   ocean twelve raids box office ocean twelve cri...        4\n",
       "..                                                ...      ...\n",
       "0   cars pull retail figures retail sales fell jan...        0\n",
       "1   kilroy unveils immigration policy ex chatshow ...        1\n",
       "3   rem announce new glasgow concert band rem anno...        3\n",
       "1   political squabbles snowball become commonplac...        1\n",
       "4   souness delight euro progress boss graeme soun...        4\n",
       "\n",
       "[2225 rows x 2 columns]"
      ]
     },
     "execution_count": 245,
     "metadata": {},
     "output_type": "execute_result"
    }
   ],
   "source": [
    "print_most_common_words_by_cluster(documents, km, 5)"
   ]
  },
  {
   "cell_type": "code",
   "execution_count": 247,
   "id": "4aeece00-0f82-48e6-aa07-7fd40e993dc9",
   "metadata": {},
   "outputs": [
    {
     "name": "stdout",
     "output_type": "stream",
     "text": [
      "3\n"
     ]
    },
    {
     "data": {
      "text/plain": [
       "3"
      ]
     },
     "execution_count": 247,
     "metadata": {},
     "output_type": "execute_result"
    }
   ],
   "source": [
    "test_new_example(km, model, new_example)"
   ]
  }
 ],
 "metadata": {
  "kernelspec": {
   "display_name": "Python 3 (ipykernel)",
   "language": "python",
   "name": "python3"
  },
  "language_info": {
   "codemirror_mode": {
    "name": "ipython",
    "version": 3
   },
   "file_extension": ".py",
   "mimetype": "text/x-python",
   "name": "python",
   "nbconvert_exporter": "python",
   "pygments_lexer": "ipython3",
   "version": "3.12.7"
  }
 },
 "nbformat": 4,
 "nbformat_minor": 5
}
