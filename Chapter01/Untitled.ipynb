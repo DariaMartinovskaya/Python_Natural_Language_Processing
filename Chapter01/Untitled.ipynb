{
 "cells": [
  {
   "cell_type": "code",
   "execution_count": null,
   "id": "ae0a3705-2beb-4122-b1b6-6625ac3cc497",
   "metadata": {},
   "outputs": [],
   "source": [
    "import nltk\n",
    "\n",
    "# Загружаем необходимые ресурсы, если они еще не загружены\n",
    "nltk.download('punkt')\n",
    "\n",
    "# Открываем текстовый файл\n",
    "filename = \"sherlock_holmes_1.txt\"\n",
    "with open(filename, \"r\", encoding=\"utf-8\") as file:\n",
    "    text = file.read()\n",
    "\n",
    "# Заменяем переводы строк пробелами\n",
    "text = text.replace(\"\\n\", \" \")\n",
    "\n",
    "# Инициализируем токенизатор\n",
    "tokenizer = nltk.data.load(\"tokenizers/punkt/english.pickle\")\n",
    "\n",
    "# Делим текст на предложения\n",
    "sentences = tokenizer.tokenize(text)\n",
    "\n",
    "# Выводим полученные предложения\n",
    "for sentence in sentences:\n",
    "    print(sentence)"
   ]
  },
  {
   "cell_type": "code",
   "execution_count": null,
   "id": "d9e663a2-dad8-4736-83f5-f78b6dce127f",
   "metadata": {},
   "outputs": [],
   "source": []
  }
 ],
 "metadata": {
  "kernelspec": {
   "display_name": "Python 3 (ipykernel)",
   "language": "python",
   "name": "python3"
  },
  "language_info": {
   "codemirror_mode": {
    "name": "ipython",
    "version": 3
   },
   "file_extension": ".py",
   "mimetype": "text/x-python",
   "name": "python",
   "nbconvert_exporter": "python",
   "pygments_lexer": "ipython3",
   "version": "3.12.7"
  }
 },
 "nbformat": 4,
 "nbformat_minor": 5
}
