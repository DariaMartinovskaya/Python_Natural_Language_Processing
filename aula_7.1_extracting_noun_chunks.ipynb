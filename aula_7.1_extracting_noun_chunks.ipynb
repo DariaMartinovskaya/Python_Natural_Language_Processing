{
 "cells": [
  {
   "cell_type": "code",
   "execution_count": 21,
   "id": "304a7c3c-fef1-49de-b293-46dc661954c3",
   "metadata": {},
   "outputs": [],
   "source": [
    "#EXTRACTING NOUN CHUNKS\n",
    "import spacy"
   ]
  },
  {
   "cell_type": "code",
   "execution_count": 22,
   "id": "3b486d4e-2edb-4ea7-8b42-95d810d6d7e3",
   "metadata": {},
   "outputs": [],
   "source": [
    "import sys\n",
    "sys.path.append('/Users/dariamartinovskaya/Downloads/PLN')\n",
    "\n",
    "from Chapter01.dividing_into_sentences import read_text_file"
   ]
  },
  {
   "cell_type": "code",
   "execution_count": 23,
   "id": "4c75c7db-a835-41db-a558-1a58af06c9df",
   "metadata": {},
   "outputs": [],
   "source": [
    "filename = \"/Users/dariamartinovskaya/Downloads/PLN/Chapter01/sherlock_holmes_1.txt\"\n",
    "with open(filename, \"r\", encoding=\"utf-8\") as file:\n",
    "    text = file.read()"
   ]
  },
  {
   "cell_type": "code",
   "execution_count": 24,
   "id": "d2c3a441-4eb3-40fd-844c-b766ae039d64",
   "metadata": {},
   "outputs": [],
   "source": [
    "nlp = spacy.load('en_core_web_md')\n",
    "doc = nlp(text)"
   ]
  },
  {
   "cell_type": "code",
   "execution_count": 25,
   "id": "7fa39033-eb04-42ae-a73a-0bf9555234ed",
   "metadata": {},
   "outputs": [
    {
     "name": "stdout",
     "output_type": "stream",
     "text": [
      "Sherlock Holmes\n",
      "she\n",
      "the_ woman\n",
      "I\n",
      "him\n",
      "her\n",
      "any other name\n",
      "his eyes\n",
      "she\n",
      "the whole\n",
      "her sex\n",
      "It\n",
      "he\n",
      "any emotion\n",
      "Irene Adler\n",
      "All emotions\n",
      "that one\n",
      "his cold, precise but admirably balanced mind\n",
      "He\n",
      "I\n",
      "it\n",
      "the most perfect reasoning\n",
      "machine\n",
      "that\n",
      "the world\n",
      "a lover\n",
      "he\n",
      "himself\n",
      "a\n",
      "false position\n",
      "He\n",
      "the softer passions\n",
      "a gibe\n",
      "a sneer\n",
      "They\n",
      "admirable things\n",
      "the observer\n",
      "the veil\n",
      "men’s motives\n",
      "actions\n",
      "the trained\n",
      "reasoner\n",
      "such intrusions\n",
      "his own delicate and finely\n",
      "adjusted temperament\n",
      "a distracting factor\n",
      "which\n",
      "a doubt\n",
      "all his mental results\n",
      "a sensitive\n",
      "instrument\n",
      "a crack\n",
      "his own high-power lenses\n",
      "a strong emotion\n",
      "a nature\n",
      "his\n",
      "one woman\n",
      "him\n",
      "that woman\n",
      "the late Irene\n",
      "Adler\n",
      "dubious and questionable memory\n"
     ]
    }
   ],
   "source": [
    "#Print out the chunks\n",
    "for noun_chunk in doc.noun_chunks:\n",
    "    print(noun_chunk.text)"
   ]
  }
 ],
 "metadata": {
  "kernelspec": {
   "display_name": "Python 3 (ipykernel)",
   "language": "python",
   "name": "python3"
  },
  "language_info": {
   "codemirror_mode": {
    "name": "ipython",
    "version": 3
   },
   "file_extension": ".py",
   "mimetype": "text/x-python",
   "name": "python",
   "nbconvert_exporter": "python",
   "pygments_lexer": "ipython3",
   "version": "3.12.7"
  }
 },
 "nbformat": 4,
 "nbformat_minor": 5
}
