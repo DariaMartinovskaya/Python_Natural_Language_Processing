{
 "cells": [
  {
   "cell_type": "code",
   "execution_count": 1,
   "id": "b01505a8-db00-4fc0-a608-28dfc11d45b0",
   "metadata": {},
   "outputs": [],
   "source": [
    "from gensim.models import KeyedVectors"
   ]
  },
  {
   "cell_type": "code",
   "execution_count": 2,
   "id": "7781824b-e62b-4178-bd40-0bc56da8eb15",
   "metadata": {},
   "outputs": [],
   "source": [
    "import numpy as np"
   ]
  },
  {
   "cell_type": "code",
   "execution_count": 3,
   "id": "2621541f-ad8e-41df-bd8a-0269e28b7de5",
   "metadata": {},
   "outputs": [],
   "source": [
    "w2vec_model_path = \"/Users/dariamartinovskaya/Downloads/PLN/Chapter03/40/model.bin\""
   ]
  },
  {
   "cell_type": "code",
   "execution_count": 4,
   "id": "c62e872b-eeec-49c3-878b-52d3550fb7b8",
   "metadata": {},
   "outputs": [],
   "source": [
    "model = KeyedVectors.load_word2vec_format(w2vec_model_path, binary=True)"
   ]
  },
  {
   "cell_type": "code",
   "execution_count": 5,
   "id": "f968897b-dc1e-401c-b4ce-54b0e4b27d42",
   "metadata": {},
   "outputs": [
    {
     "name": "stdout",
     "output_type": "stream",
     "text": [
      "[-0.309647 -0.127936 -0.136244 -0.252969  0.410695  0.206325  0.119236\n",
      " -0.244745 -0.436801  0.058889  0.237439  0.247656  0.072103  0.044183\n",
      " -0.424878  0.367344  0.153287  0.343856  0.232269 -0.181432 -0.050021\n",
      "  0.225756  0.71465  -0.564166 -0.168468 -0.153668  0.300445 -0.220122\n",
      " -0.021261  0.25779  -0.581744  0.320341 -0.236189  0.224906  0.029358\n",
      " -0.295143  0.483847 -0.05832   0.010784  0.050842 -0.034141  0.420114\n",
      "  0.126926 -0.405974 -0.421415  0.006092 -0.137557  0.038477  0.100005\n",
      "  0.151401  0.287163 -0.433263 -0.249083 -0.057834  0.367427 -0.181977\n",
      "  0.31608   0.063203 -0.486009 -0.127354 -0.283149  0.028113 -0.150146\n",
      " -0.38704   0.033237  0.146932  0.470853 -0.151154  0.064424  0.146739\n",
      " -0.164267 -0.094909  0.443384 -0.055244  0.117268 -0.221496 -0.185951\n",
      "  0.056249 -0.176986 -0.449508  0.345431 -0.096014 -0.19798   0.117698\n",
      " -0.162563 -0.181655 -0.18644  -0.158727  0.595464  0.161437 -0.382661\n",
      "  0.148537  0.173535  0.370556 -0.346765  0.055452  0.024405 -0.002895\n",
      "  0.081445  0.354575]\n"
     ]
    }
   ],
   "source": [
    "print(model['holmes'])"
   ]
  },
  {
   "cell_type": "code",
   "execution_count": 6,
   "id": "3a1a127b-2fbf-4194-806f-35d9201072fa",
   "metadata": {},
   "outputs": [
    {
     "name": "stdout",
     "output_type": "stream",
     "text": [
      "[('sherlock', 0.8416915535926819), ('parker', 0.8099909424781799), ('moriarty', 0.8039607405662537), ('sawyer', 0.800270140171051), ('moore', 0.7932804822921753), ('wolfe', 0.7923580408096313), ('hale', 0.7910091876983643), ('doyle', 0.7906038761138916), ('holmes.the', 0.7895271182060242), ('watson', 0.788769006729126), ('yates', 0.7882785797119141), ('stevenson', 0.787943959236145), ('spencer', 0.7877693176269531), ('goodwin', 0.7866846323013306), ('baxter', 0.7864186763763428)]\n"
     ]
    }
   ],
   "source": [
    "print(model.most_similar(['holmes'], topn=15))"
   ]
  },
  {
   "cell_type": "code",
   "execution_count": 7,
   "id": "0cd3c304-fe74-4942-b3b4-1101554e1c91",
   "metadata": {},
   "outputs": [],
   "source": [
    "sentence = \"It was not that he felt any emotion akin to love for Irene Adler.\""
   ]
  },
  {
   "cell_type": "code",
   "execution_count": 8,
   "id": "c6601dd2-c56f-4e70-9821-9a8a82220869",
   "metadata": {},
   "outputs": [],
   "source": [
    "def get_word_vectors(sentence, model): \n",
    "    word_vectors = []\n",
    "    for word in sentence:\n",
    "        try:\n",
    "            word_vector = model.get_vector(word.lower())\n",
    "            word_vectors.append(word_vector)\n",
    "        except KeyError:\n",
    "            continue\n",
    "    return word_vectors"
   ]
  },
  {
   "cell_type": "code",
   "execution_count": 9,
   "id": "553d6be5-a533-4581-a776-e3c28b776f29",
   "metadata": {},
   "outputs": [],
   "source": [
    "def get_sentence_vector(word_vectors):\n",
    "    matrix = np.array(word_vectors)\n",
    "    centroid = np.mean(matrix[:,:], axis=0)\n",
    "    return centroid"
   ]
  },
  {
   "cell_type": "code",
   "execution_count": 10,
   "id": "c1c32d3a-0231-48eb-b4a4-98bab78fba47",
   "metadata": {},
   "outputs": [
    {
     "name": "stdout",
     "output_type": "stream",
     "text": [
      "[ 0.09226871  0.14478634  0.23788658 -0.31754282  0.42911175 -0.05198449\n",
      "  0.12572111  0.01170996 -0.01138579  0.05200932  0.15247145  0.34026343\n",
      "  0.12961692  0.05010585 -0.09165132  0.3782767   0.08390289  0.30078036\n",
      " -0.24396846  0.42507184 -0.13556597  0.157348    0.19739327 -0.13114193\n",
      " -0.16301586  0.19061208 -0.17776786  0.00779739  0.22080304  0.00757292\n",
      "  0.08214489  0.05292403 -0.26995075  0.00906517  0.18542539 -0.20518285\n",
      " -0.09054315  0.02091755  0.15495133 -0.03320368 -0.03254781  0.35649517\n",
      " -0.14889626  0.07488623  0.13680871  0.4443542  -0.14066774  0.10251798\n",
      " -0.18436027  0.11045676 -0.17975916 -0.02136871 -0.11026109 -0.18642433\n",
      " -0.05931851  0.01703786  0.3544097   0.17131186 -0.31452173 -0.12231107\n",
      " -0.08258836  0.15248556  0.12112819 -0.32618955  0.01297824 -0.04008434\n",
      "  0.35412577 -0.13917081 -0.19634432 -0.03216437  0.30779663 -0.00925971\n",
      "  0.2535734  -0.14927842 -0.2347377  -0.32309702 -0.41007644  0.42555934\n",
      " -0.05917206  0.07272248  0.05830745  0.23424557  0.16473134  0.3544628\n",
      "  0.1398271   0.18607852 -0.17587464 -0.31830567  0.6772756  -0.12841727\n",
      " -0.10423013  0.25595132  0.01353108  0.10604009  0.09106217  0.23265913\n",
      " -0.10956775  0.14588395 -0.06585392  0.19673738]\n"
     ]
    }
   ],
   "source": [
    "word_vectors = get_word_vectors(sentence, model)\n",
    "sentence_vector = get_sentence_vector(word_vectors)\n",
    "print(sentence_vector)"
   ]
  },
  {
   "cell_type": "code",
   "execution_count": 11,
   "id": "337d027a-c441-4b41-bf55-47eccf98ca1e",
   "metadata": {},
   "outputs": [],
   "source": [
    "from gensim.models import KeyedVectors"
   ]
  },
  {
   "cell_type": "code",
   "execution_count": 12,
   "id": "58c3713b-01d0-4bd1-85b9-d9a1ed60b3eb",
   "metadata": {},
   "outputs": [],
   "source": [
    "w2vec_model_path = \"/Users/dariamartinovskaya/Downloads/PLN/Chapter03/40/model.bin\""
   ]
  },
  {
   "cell_type": "code",
   "execution_count": 13,
   "id": "b3851642-6e4f-4dba-985a-9ffd6876ddca",
   "metadata": {},
   "outputs": [],
   "source": [
    "model = \\\n",
    "KeyedVectors.load_word2vec_format(w2vec_model_path, binary=True)"
   ]
  },
  {
   "cell_type": "code",
   "execution_count": 14,
   "id": "223426b9-4ade-47fb-84e7-629b195dec6c",
   "metadata": {},
   "outputs": [],
   "source": [
    "words = ['banana', 'apple', 'computer', 'strawberry']"
   ]
  },
  {
   "cell_type": "code",
   "execution_count": 15,
   "id": "11197142-090e-4898-bd4b-c1544b2c5bb4",
   "metadata": {},
   "outputs": [
    {
     "name": "stdout",
     "output_type": "stream",
     "text": [
      "computer\n"
     ]
    }
   ],
   "source": [
    "print(model.doesnt_match(words))"
   ]
  },
  {
   "cell_type": "code",
   "execution_count": 16,
   "id": "7efdda7f-27e1-406f-8fb1-7fc708832ac7",
   "metadata": {},
   "outputs": [
    {
     "name": "stdout",
     "output_type": "stream",
     "text": [
      "glass\n"
     ]
    }
   ],
   "source": [
    "word = \"cup\"\n",
    "words = ['glass', 'computer', 'pencil', 'watch']\n",
    "print(model.most_similar_to_given(word, words))"
   ]
  },
  {
   "cell_type": "code",
   "execution_count": 199,
   "id": "c23af79e-f274-4a7a-8a4e-095a13c4b0d8",
   "metadata": {},
   "outputs": [],
   "source": [
    "#Training your own embeddings model\n",
    "import gensim\n",
    "import pickle\n",
    "from os import listdir\n",
    "from os.path import isfile, join\n",
    "from Chapter03.bag_of_words import get_sentences\n",
    "from Chapter01.tokenization import tokenize_nltk"
   ]
  },
  {
   "cell_type": "code",
   "execution_count": 200,
   "id": "0180b313-a02c-4f46-91ca-a84cf4eb71b2",
   "metadata": {},
   "outputs": [],
   "source": [
    "word2vec_model_path = \"/Users/dariamartinovskaya/Downloads/PLN/Chapter03/word2vec.model\"\n",
    "books_dir = \"/Users/dariamartinovskaya/Downloads/PLN/Chapter03/archive\""
   ]
  },
  {
   "cell_type": "code",
   "execution_count": 201,
   "id": "2247d546-5645-4e71-a642-8880e8a6d372",
   "metadata": {},
   "outputs": [],
   "source": [
    "def get_all_book_sentences(directory):\n",
    "    text_files = \\\n",
    "    [join(directory, f) for f in listdir(directory) if \\\n",
    "        isfile(join(directory, f)) and \".txt\" in f]\n",
    "    all_sentences = []\n",
    "    for text_file in text_files:\n",
    "        sentences = get_sentences(text_file)\n",
    "        all_sentences = all_sentences + sentences\n",
    "    return all_sentences"
   ]
  },
  {
   "cell_type": "code",
   "execution_count": null,
   "id": "20be5c12-6383-4553-8721-c9cc69b4308c",
   "metadata": {},
   "outputs": [],
   "source": [
    "def train_word2vec(words, word2vec_model_path):\n",
    "    model = gensim.models.Word2Vec(words, window=5, size=200)\n",
    "    model.train(words, total_examples=len(words), epochs=200)\n",
    "    pickle.dump(model, open(word2vec_model_path, 'wb'))\n",
    "    return model"
   ]
  },
  {
   "cell_type": "code",
   "execution_count": null,
   "id": "02939cf6-f85d-4e83-9b1c-5f1da908a393",
   "metadata": {},
   "outputs": [],
   "source": [
    "sentences = get_all_book_sentences(books_dir)"
   ]
  },
  {
   "cell_type": "code",
   "execution_count": null,
   "id": "e856d2d3-8e92-4fc1-a4c9-2ad3a4bfc919",
   "metadata": {},
   "outputs": [],
   "source": [
    "sentences = [tokenize_nltk(s.lower()) for s in sentences]"
   ]
  },
  {
   "cell_type": "code",
   "execution_count": null,
   "id": "08176846-237f-409e-8fdd-ebdfdf74c8ad",
   "metadata": {},
   "outputs": [],
   "source": [
    "model = train_word2vec(sentences, word2vec_model_path)"
   ]
  },
  {
   "cell_type": "code",
   "execution_count": null,
   "id": "d49c6252-301c-41aa-93cb-6166d763d3db",
   "metadata": {},
   "outputs": [],
   "source": [
    "w1 = \"river\"\n",
    "words = model.wv.most_similar(w1, topn=10)\n",
    "print(words)"
   ]
  }
 ],
 "metadata": {
  "kernelspec": {
   "display_name": "Python 3 (ipykernel)",
   "language": "python",
   "name": "python3"
  },
  "language_info": {
   "codemirror_mode": {
    "name": "ipython",
    "version": 3
   },
   "file_extension": ".py",
   "mimetype": "text/x-python",
   "name": "python",
   "nbconvert_exporter": "python",
   "pygments_lexer": "ipython3",
   "version": "3.12.7"
  }
 },
 "nbformat": 4,
 "nbformat_minor": 5
}
