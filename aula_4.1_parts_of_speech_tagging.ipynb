{
 "cells": [
  {
   "cell_type": "code",
   "execution_count": 1,
   "id": "ef16d215-c788-4658-b14f-1988f457da8f",
   "metadata": {},
   "outputs": [],
   "source": [
    "#PARTS OF SPEECH TAGGING\n",
    "import spacy"
   ]
  },
  {
   "cell_type": "code",
   "execution_count": 2,
   "id": "b37ab143-ebfa-4bb7-9e4f-db4db78c0953",
   "metadata": {},
   "outputs": [],
   "source": [
    "filename = \"/Users/dariamartinovskaya/Downloads/PLN/Chapter01/sherlock_holmes_1.txt\"\n",
    "with open(filename, \"r\", encoding=\"utf-8\") as file:\n",
    "    text = file.read()"
   ]
  },
  {
   "cell_type": "code",
   "execution_count": 3,
   "id": "f081433c-726d-4b1c-8264-18f1709a161c",
   "metadata": {},
   "outputs": [],
   "source": [
    "#Replace newlines with spaces\n",
    "text = text.replace(\"\\n\", \" \")"
   ]
  },
  {
   "cell_type": "code",
   "execution_count": 4,
   "id": "57ac68fe-b202-4401-a732-edb204e4ab1d",
   "metadata": {},
   "outputs": [],
   "source": [
    "#Initialize the spaCy engine\n",
    "nlp = spacy.load(\"en_core_web_sm\")"
   ]
  },
  {
   "cell_type": "code",
   "execution_count": 5,
   "id": "b70e9ff6-7f6d-49a1-9019-b5d65c5823d2",
   "metadata": {},
   "outputs": [],
   "source": [
    "#Use the spaCy engine to process the text\n",
    "doc = nlp(text)"
   ]
  },
  {
   "cell_type": "code",
   "execution_count": 6,
   "id": "42e1044a-f074-44ab-9a7f-19bfe9d51642",
   "metadata": {},
   "outputs": [],
   "source": [
    "#Get the list of tuples with words and parts of speech tags\n",
    "words = [token.text for token in doc]"
   ]
  },
  {
   "cell_type": "code",
   "execution_count": 7,
   "id": "93abdc17-3651-4c38-81b6-ce2db61b6bc8",
   "metadata": {},
   "outputs": [],
   "source": [
    "pos = [token.pos_ for token in doc]"
   ]
  },
  {
   "cell_type": "code",
   "execution_count": 8,
   "id": "3fa72ea6-833c-4130-849b-0807ae467c28",
   "metadata": {},
   "outputs": [],
   "source": [
    "word_pos_tuples = list(zip(words, pos))"
   ]
  },
  {
   "cell_type": "code",
   "execution_count": 9,
   "id": "53859222-f6cd-4583-aba5-b3de3cab9303",
   "metadata": {},
   "outputs": [
    {
     "name": "stdout",
     "output_type": "stream",
     "text": [
      "[('To', 'ADP'), ('Sherlock', 'PROPN'), ('Holmes', 'PROPN'), ('she', 'PRON'), ('is', 'AUX'), ('always', 'ADV'), ('_', 'PUNCT'), ('the', 'DET'), ('_', 'PROPN'), ('woman', 'NOUN'), ('.', 'PUNCT'), ('I', 'PRON'), ('have', 'AUX'), ('seldom', 'ADV'), ('heard', 'VERB'), ('him', 'PRON'), ('mention', 'VERB'), ('her', 'PRON'), ('under', 'ADP'), ('any', 'DET'), ('other', 'ADJ'), ('name', 'NOUN'), ('.', 'PUNCT'), ('In', 'ADP'), ('his', 'PRON'), ('eyes', 'NOUN'), ('she', 'PRON'), ('eclipses', 'VERB'), ('and', 'CCONJ'), ('predominates', 'VERB'), ('the', 'DET'), ('whole', 'NOUN'), ('of', 'ADP'), ('her', 'PRON'), ('sex', 'NOUN'), ('.', 'PUNCT'), ('It', 'PRON'), ('was', 'AUX'), ('not', 'PART'), ('that', 'SCONJ'), ('he', 'PRON'), ('felt', 'VERB'), ('any', 'DET'), ('emotion', 'NOUN'), ('akin', 'ADJ'), ('to', 'PART'), ('love', 'VERB'), ('for', 'ADP'), ('Irene', 'PROPN'), ('Adler', 'PROPN'), ('.', 'PUNCT'), ('All', 'DET'), ('emotions', 'NOUN'), (',', 'PUNCT'), ('and', 'CCONJ'), ('that', 'DET'), ('one', 'NUM'), ('particularly', 'ADV'), (',', 'PUNCT'), ('were', 'AUX'), ('abhorrent', 'ADJ'), ('to', 'ADP'), ('his', 'PRON'), ('cold', 'ADJ'), (',', 'PUNCT'), ('precise', 'ADJ'), ('but', 'CCONJ'), ('admirably', 'ADV'), ('balanced', 'ADJ'), ('mind', 'NOUN'), ('.', 'PUNCT'), ('He', 'PRON'), ('was', 'AUX'), (',', 'PUNCT'), ('I', 'PRON'), ('take', 'VERB'), ('it', 'PRON'), (',', 'PUNCT'), ('the', 'DET'), ('most', 'ADV'), ('perfect', 'ADJ'), ('reasoning', 'NOUN'), ('and', 'CCONJ'), ('observing', 'VERB'), ('machine', 'NOUN'), ('that', 'PRON'), ('the', 'DET'), ('world', 'NOUN'), ('has', 'AUX'), ('seen', 'VERB'), (',', 'PUNCT'), ('but', 'CCONJ'), ('as', 'ADP'), ('a', 'DET'), ('lover', 'NOUN'), ('he', 'PRON'), ('would', 'AUX'), ('have', 'AUX'), ('placed', 'VERB'), ('himself', 'PRON'), ('in', 'ADP'), ('a', 'DET'), ('false', 'ADJ'), ('position', 'NOUN'), ('.', 'PUNCT'), ('He', 'PRON'), ('never', 'ADV'), ('spoke', 'VERB'), ('of', 'ADP'), ('the', 'DET'), ('softer', 'ADJ'), ('passions', 'NOUN'), (',', 'PUNCT'), ('save', 'VERB'), ('with', 'ADP'), ('a', 'DET'), ('gibe', 'NOUN'), ('and', 'CCONJ'), ('a', 'DET'), ('sneer', 'NOUN'), ('.', 'PUNCT'), ('They', 'PRON'), ('were', 'AUX'), ('admirable', 'ADJ'), ('things', 'NOUN'), ('for', 'ADP'), ('the', 'DET'), ('observer', 'NOUN'), ('—', 'PUNCT'), ('excellent', 'ADJ'), ('for', 'ADP'), ('drawing', 'VERB'), ('the', 'DET'), ('veil', 'NOUN'), ('from', 'ADP'), ('men', 'NOUN'), ('’s', 'PART'), ('motives', 'NOUN'), ('and', 'CCONJ'), ('actions', 'NOUN'), ('.', 'PUNCT'), ('But', 'CCONJ'), ('for', 'ADP'), ('the', 'DET'), ('trained', 'VERB'), ('reasoner', 'NOUN'), ('to', 'PART'), ('admit', 'VERB'), ('such', 'ADJ'), ('intrusions', 'NOUN'), ('into', 'ADP'), ('his', 'PRON'), ('own', 'ADJ'), ('delicate', 'ADJ'), ('and', 'CCONJ'), ('finely', 'ADV'), ('adjusted', 'VERB'), ('temperament', 'NOUN'), ('was', 'AUX'), ('to', 'PART'), ('introduce', 'VERB'), ('a', 'DET'), ('distracting', 'NOUN'), ('factor', 'NOUN'), ('which', 'PRON'), ('might', 'AUX'), ('throw', 'VERB'), ('a', 'DET'), ('doubt', 'NOUN'), ('upon', 'SCONJ'), ('all', 'DET'), ('his', 'PRON'), ('mental', 'ADJ'), ('results', 'NOUN'), ('.', 'PUNCT'), ('Grit', 'NOUN'), ('in', 'ADP'), ('a', 'DET'), ('sensitive', 'ADJ'), ('instrument', 'NOUN'), (',', 'PUNCT'), ('or', 'CCONJ'), ('a', 'DET'), ('crack', 'NOUN'), ('in', 'ADP'), ('one', 'NUM'), ('of', 'ADP'), ('his', 'PRON'), ('own', 'ADJ'), ('high', 'ADJ'), ('-', 'PUNCT'), ('power', 'NOUN'), ('lenses', 'NOUN'), (',', 'PUNCT'), ('would', 'AUX'), ('not', 'PART'), ('be', 'AUX'), ('more', 'ADV'), ('disturbing', 'ADJ'), ('than', 'ADP'), ('a', 'DET'), ('strong', 'ADJ'), ('emotion', 'NOUN'), ('in', 'ADP'), ('a', 'DET'), ('nature', 'NOUN'), ('such', 'ADJ'), ('as', 'ADP'), ('his', 'PRON'), ('.', 'PUNCT'), ('And', 'CCONJ'), ('yet', 'ADV'), ('there', 'PRON'), ('was', 'VERB'), ('but', 'CCONJ'), ('one', 'NUM'), ('woman', 'NOUN'), ('to', 'ADP'), ('him', 'PRON'), (',', 'PUNCT'), ('and', 'CCONJ'), ('that', 'DET'), ('woman', 'NOUN'), ('was', 'AUX'), ('the', 'DET'), ('late', 'ADJ'), ('Irene', 'PROPN'), ('Adler', 'PROPN'), (',', 'PUNCT'), ('of', 'ADP'), ('dubious', 'ADJ'), ('and', 'CCONJ'), ('questionable', 'ADJ'), ('memory', 'NOUN'), ('.', 'PUNCT')]\n"
     ]
    }
   ],
   "source": [
    "print(word_pos_tuples)"
   ]
  }
 ],
 "metadata": {
  "kernelspec": {
   "display_name": "Python 3 (ipykernel)",
   "language": "python",
   "name": "python3"
  },
  "language_info": {
   "codemirror_mode": {
    "name": "ipython",
    "version": 3
   },
   "file_extension": ".py",
   "mimetype": "text/x-python",
   "name": "python",
   "nbconvert_exporter": "python",
   "pygments_lexer": "ipython3",
   "version": "3.12.7"
  }
 },
 "nbformat": 4,
 "nbformat_minor": 5
}
